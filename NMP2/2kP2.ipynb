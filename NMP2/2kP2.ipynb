{
 "cells": [
  {
   "cell_type": "code",
   "execution_count": 9,
   "metadata": {
    "collapsed": true
   },
   "outputs": [],
   "source": [
    "import numpy as np\n",
    "import pandas as pd\n",
    "import matplotlib.pyplot as plt\n",
    "from scipy import integrate"
   ]
  },
  {
   "cell_type": "code",
   "execution_count": 10,
   "metadata": {
    "collapsed": true
   },
   "outputs": [],
   "source": [
    "#Класс МОНОМОВ\n",
    "class MON:\n",
    "    def __init__(self, k):\n",
    "        self.deg = k\n",
    "    def val(self, x):\n",
    "        return x**(self.deg)\n",
    "    def  __mul__(self, other):\n",
    "        return MON(self.deg + other.deg)"
   ]
  },
  {
   "cell_type": "code",
   "execution_count": 11,
   "metadata": {
    "collapsed": true
   },
   "outputs": [],
   "source": [
    "def myF(x):\n",
    "    return (x**3 - x**2 + 10*x - 100) #np.sin(4*x) #np.exp(x)"
   ]
  },
  {
   "cell_type": "code",
   "execution_count": 12,
   "metadata": {
    "collapsed": true
   },
   "outputs": [],
   "source": [
    "def takeDATA(a, b, n):\n",
    "    NODES = np.linspace(a, b, n+1)\n",
    "    VALUES = [myF(x) for x in NODES]\n",
    "    print(\"NODES: \", [x for x in NODES])\n",
    "    print(\"VALUES: \", VALUES)"
   ]
  },
  {
   "cell_type": "code",
   "execution_count": 13,
   "metadata": {
    "collapsed": true
   },
   "outputs": [],
   "source": [
    "#Ведущий Элемент (находим ведущий(макс.) элемент подматрицы [strD,len(A)-1]x[stlD,len(A)-1], переставляем на место (strD, stlD))\n",
    "def leadE(A, B, IND, strD, stlD):\n",
    "    maxE = A[strD][stlD]\n",
    "    strE = strD\n",
    "    stlE = stlD\n",
    "    for i in range(strD, len(A)):\n",
    "        for j in range(stlD, len(A[i])):\n",
    "            if maxE < A[i][j]: \n",
    "                maxE = A[i][j]\n",
    "                strE = i\n",
    "                stlE = j\n",
    "    for i in range(len(A)):\n",
    "        A[i][stlE], A[i][stlD] = A[i][stlD], A[i][stlE]\n",
    "    IND[stlD], IND[stlE] = IND[stlE], IND[stlD] #перестановка индексов неизвестных вместе со столб-и матрицы системы A \n",
    "    \n",
    "    for j in range(len(A[strE])):\n",
    "        A[strD][j], A[strE][j] = A[strE][j], A[strD][j]\n",
    "    B[strD], B[strE] = B[strE], B[strD]\n",
    "    return A, B, IND\n",
    "\n",
    "#Метод ГАУССА\n",
    "def MG(A, B):\n",
    "    IND = [i for i in range(len(A))] #индексы неизвестных\n",
    "    X = [0 for i in range(len(A))]\n",
    "    #Прямой ход\n",
    "    for j in range(0, len(A)-1):\n",
    "        A, B, IND = leadE(A, B, IND, j, j)\n",
    "        for i in range(j+1, len(A)):\n",
    "            r = -(A[i][j]/A[j][j])\n",
    "            for k in range(j, len(A)):\n",
    "                A[i][k] = A[i][k] + r*A[j][k]\n",
    "            B[i] = B[i] + r*B[j]\n",
    "    #Обратный ход\n",
    "    for i in range(len(A)-1, -1, -1):\n",
    "        Sum = 0\n",
    "        for j in range(i+1, len(A)):\n",
    "            Sum += A[i][j]*X[IND[j]]\n",
    "        X[IND[i]] = (B[i] - Sum)/A[i][i]\n",
    "    return X"
   ]
  },
  {
   "cell_type": "code",
   "execution_count": 16,
   "metadata": {
    "collapsed": true
   },
   "outputs": [],
   "source": [
    "#Метод НАИМЕНЬШИХ КВАДРАТОВ\n",
    "def LSM(a, b, n, NODES, VALUES, k):\n",
    "    A = [[0 for i in range(k+1)] for j in range(k+1)]\n",
    "    B = [0 for i in range(k+1)]\n",
    "    \n",
    "    #-----ПОСТРОЕНИЕ-МАТРИЦЫ-СИСТЕМЫ----------------------------------------------\n",
    "    #for i in range(k+1):\n",
    "    #    phii = MON(i)\n",
    "    #    for j in range(k+1):\n",
    "    #        phij = MON(j)\n",
    "    #        phi = phii * phij\n",
    "    #        A[i][j] = integrate.quad(phi.val, a, b)[0]\n",
    "    \n",
    "    for i in range(k+1):\n",
    "        for j in range(k+1):\n",
    "            Sum = 0\n",
    "            for node in NODES:\n",
    "                Sum += node**(i+j)\n",
    "            A[i][j] = Sum        \n",
    "    \n",
    "    for i in range(k+1):\n",
    "        Sum = 0\n",
    "        phi = MON(i)\n",
    "        for j in range(n+1):\n",
    "            Sum += VALUES[j]*phi.val(NODES[j])\n",
    "        B[i] = Sum\n",
    "    \n",
    "    print(\"A: \")\n",
    "    print(pd.DataFrame(A), \"\\n\")\n",
    "    print(\"B: \")\n",
    "    print(pd.DataFrame(B), \"\\n\")\n",
    "    \n",
    "    #-----РЕШЕНИЕ-СИСТЕМЫ---------------------------------------------------------\n",
    "    COEF = MG(A, B)\n",
    "    print(\"COEFFICIENTS: \")\n",
    "    print(pd.DataFrame(COEF), \"\\n\")\n",
    "    \n",
    "    #-----СРЕДНЕКВАДРАТИЧНОЕ-ОТКЛОНЕНИЕ-------------------------------------------\n",
    "    Sum = 0\n",
    "    for i in range(n+1):\n",
    "        val = 0\n",
    "        for j in range(k+1):\n",
    "            val += COEF[j]*(NODES[i]**j)\n",
    "        Sum += ((val - VALUES[i])**2)/(n+1)        \n",
    "    \n",
    "    standDev = np.sqrt(Sum)\n",
    "    print(\"Standard Deviation: \", standDev)\n",
    "    \n",
    "    #-----ПОСТРОЕНИЕ-ГРАФИКА------------------------------------------------------\n",
    "    fX = np.linspace(a, b, 100)\n",
    "    fY = [myF(x) for x in fX]\n",
    "    \n",
    "    lsmX = np.linspace(a, b, 100)\n",
    "    lsmY = []\n",
    "    \n",
    "    for x in lsmX:\n",
    "        y = 0\n",
    "        for j in range(k+1):\n",
    "            y += COEF[j]*(x**j)\n",
    "        lsmY.append(y)\n",
    "    \n",
    "    up = max(max(lsmY), max(fY)) + 1\n",
    "    down = min(min(lsmY), min(fY)) - 1\n",
    "     \n",
    "    plt.plot(fX, fY, \"blue\", label = \"$myF$\")\n",
    "    plt.plot(lsmX, lsmY, \"red\", label = \"$LSM$\")\n",
    "    plt.plot(NODES, VALUES, \"o\", label = \"$DATA$\")\n",
    "    plt.grid(True)\n",
    "    plt.axis([a, b, down, up])\n",
    "    plt.legend()\n",
    "    plt.show()"
   ]
  },
  {
   "cell_type": "code",
   "execution_count": 17,
   "metadata": {},
   "outputs": [
    {
     "name": "stdout",
     "output_type": "stream",
     "text": [
      "A: \n",
      "      0      1      2\n",
      "0   6.0   15.0   55.0\n",
      "1  15.0   55.0  225.0\n",
      "2  55.0  225.0  979.0 \n",
      "\n",
      "B: \n",
      "       0\n",
      "0 -280.0\n",
      "1 -196.0\n",
      "2  196.0 \n",
      "\n",
      "COEFFICIENTS: \n",
      "      0\n",
      "0 -97.0\n",
      "1  -3.7\n",
      "2   6.5 \n",
      "\n",
      "Standard Deviation:  3.28633534503\n"
     ]
    },
    {
     "data": {
      "image/png": "[encoded data removed]",
      "text/plain": [
       "<matplotlib.figure.Figure at 0xa44cd30>"
      ]
     },
     "metadata": {},
     "output_type": "display_data"
    }
   ],
   "source": [
    "#f(x) = (x^3 - x^2 + 10*x - 100)\n",
    "LSM(0, 5, 5, \n",
    "    [0.0, 1.0, 2.0, 3.0, 4.0, 5.0], \n",
    "    [-100, -90, -76, -52, -12, 50], 2)"
   ]
  },
  {
   "cell_type": "code",
   "execution_count": 15,
   "metadata": {},
   "outputs": [
    {
     "name": "stdout",
     "output_type": "stream",
     "text": [
      "NODES:  [0.0, 1.0, 2.0, 3.0, 4.0, 5.0]\n",
      "VALUES:  [-100.0, -90.0, -76.0, -52.0, -12.0, 50.0]\n"
     ]
    }
   ],
   "source": [
    "takeDATA(0, 5, 5)"
   ]
  },
  {
   "cell_type": "code",
   "execution_count": null,
   "metadata": {
    "collapsed": true
   },
   "outputs": [],
   "source": []
  }
 ],
 "metadata": {
  "kernelspec": {
   "display_name": "Python 3",
   "language": "python",
   "name": "python3"
  },
  "language_info": {
   "codemirror_mode": {
    "name": "ipython",
    "version": 3
   },
   "file_extension": ".py",
   "mimetype": "text/x-python",
   "name": "python",
   "nbconvert_exporter": "python",
   "pygments_lexer": "ipython3",
   "version": "3.6.1"
  }
 },
 "nbformat": 4,
 "nbformat_minor": 2
}
