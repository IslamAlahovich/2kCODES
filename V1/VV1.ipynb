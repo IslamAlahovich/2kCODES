{
 "cells": [
  {
   "cell_type": "code",
   "execution_count": 67,
   "metadata": {
    "collapsed": true
   },
   "outputs": [],
   "source": [
    "import numpy as np\n",
    "import pandas as pd\n",
    "import matplotlib.pyplot as plt"
   ]
  },
  {
   "cell_type": "code",
   "execution_count": 98,
   "metadata": {
    "collapsed": true
   },
   "outputs": [],
   "source": [
    "from IPython.core.interactiveshell import InteractiveShell\n",
    "InteractiveShell.ast_node_interactivity = \"all\""
   ]
  },
  {
   "cell_type": "code",
   "execution_count": 9,
   "metadata": {
    "collapsed": true
   },
   "outputs": [],
   "source": [
    "def rpF(x, y):\n",
    "    return (x/y)*np.exp(2*x) + y"
   ]
  },
  {
   "cell_type": "code",
   "execution_count": 10,
   "metadata": {
    "collapsed": true
   },
   "outputs": [],
   "source": [
    "def realY(x=0.25):\n",
    "    return x*np.exp(x)"
   ]
  },
  {
   "cell_type": "code",
   "execution_count": 68,
   "metadata": {
    "collapsed": true
   },
   "outputs": [],
   "source": [
    "#Euler method(diffeq)\n",
    "#IN: [a, b]- interval, N - num of splits, value0 - val of y(a);\n",
    "#OUT: NODES - nodes, VALUES - values in nodes, deviation;\n",
    "\n",
    "def mEU(a, b, N, value0=realY()):\n",
    "    NODES = np.linspace(a, b, N+1)\n",
    "    realNODES = np.linspace(a, b, 100)\n",
    "    VALUES = np.empty(N+1)\n",
    "    h, VALUES[0], deviation = (b - a)/N, value0, 0\n",
    "    for i in range(N):\n",
    "        VALUES[i+1] = VALUES[i] + h*rpF(NODES[i], VALUES[i])\n",
    "        if deviation < abs(VALUES[i+1] - realY(NODES[i+1])): deviation = abs(VALUES[i+1] - realY(NODES[i+1]))\n",
    "    return NODES, VALUES, deviation"
   ]
  },
  {
   "cell_type": "code",
   "execution_count": 69,
   "metadata": {
    "collapsed": true
   },
   "outputs": [],
   "source": [
    "#MODIFIED1 Euler method(diffeq)\n",
    "#IN: [a, b]- interval, N - num of splits, value0 - val of y(a);\n",
    "#OUT: NODES - nodes, VALUES - values in nodes, deviation;\n",
    "\n",
    "def mEUM1(a, b, N, value0=realY()):\n",
    "    NODES = np.linspace(a, b, N+1)\n",
    "    realNODES = np.linspace(a, b, 100)\n",
    "    VALUES = np.empty(N+1)\n",
    "    h, VALUES[0], deviation = (b - a)/N, value0, 0\n",
    "    for i in range(N):\n",
    "        VALUES[i+1] = VALUES[i] + (0.5*h)*(rpF(NODES[i], VALUES[i]) + rpF(NODES[i]+h, VALUES[i]+h*rpF(NODES[i], VALUES[i])))\n",
    "        if deviation < abs(VALUES[i+1] - realY(NODES[i+1])): deviation = abs(VALUES[i+1] - realY(NODES[i+1]))\n",
    "    return NODES, VALUES, deviation"
   ]
  },
  {
   "cell_type": "code",
   "execution_count": 34,
   "metadata": {},
   "outputs": [],
   "source": [
    "#MODIFIED2 Euler method(diffeq)\n",
    "#IN: [a, b]- interval, N - num of splits, value0 - val of y(a);\n",
    "#OUT: NODES - nodes, VALUES - values in nodes, deviation;\n",
    "\n",
    "def mEUM2(a, b, N, value0=realY()):\n",
    "    NODES = np.linspace(a, b, N+1)\n",
    "    realNODES = np.linspace(a, b, 100)\n",
    "    VALUES = np.empty(N+1)\n",
    "    h, VALUES[0], deviation = (b - a)/N, value0, 0\n",
    "    for i in range(N):\n",
    "        VALUES[i+1] = VALUES[i] + h*rpF(NODES[i]+(0.5*h), VALUES[i]+(0.5*h)*rpF(NODES[i], VALUES[i]))\n",
    "        if deviation < abs(VALUES[i+1] - realY(NODES[i+1])): deviation = abs(VALUES[i+1] - realY(NODES[i+1]))\n",
    "    return NODES, VALUES, deviation"
   ]
  },
  {
   "cell_type": "code",
   "execution_count": 35,
   "metadata": {},
   "outputs": [],
   "source": [
    "#Runge-Kutta method(diffeq)\n",
    "##IN: [a, b]- interval, N - num of splits, value0 - val of y(a);\n",
    "#OUT: NODES - nodes, VALUES - values in nodes, deviation;\n",
    "\n",
    "def mRK(a, b, N, value0=realY()):\n",
    "    NODES = np.linspace(a, b, N+1)\n",
    "    realNODES = np.linspace(a, b, 100)\n",
    "    VALUES = np.empty(N+1)\n",
    "    h, VALUES[0], deviation = (b - a)/N, value0, 0\n",
    "    for i in range(N):\n",
    "        phi1 = h*rpF(NODES[i], VALUES[i])\n",
    "        phi2 = h*rpF(NODES[i]+(0.5*h), VALUES[i]+(0.5*phi1))\n",
    "        phi3 = h*rpF(NODES[i]+h, VALUES[i]-phi1+2*phi2)\n",
    "        VALUES[i+1] = VALUES[i] + (phi1 + 4*phi2 + phi3)/6.0\n",
    "        if deviation < abs(VALUES[i+1] - realY(NODES[i+1])): deviation = abs(VALUES[i+1] - realY(NODES[i+1]))\n",
    "    return NODES, VALUES, deviation"
   ]
  },
  {
   "cell_type": "code",
   "execution_count": 116,
   "metadata": {
    "collapsed": true
   },
   "outputs": [],
   "source": [
    "def SHOW_T(a, b, N_from, N_to, N_jump):\n",
    "    METHS = np.array([mEU, mEUM1, mEUM2, mRK])\n",
    "    dataset = np.array([[meth(a, b, i)[2] for meth in METHS] for i in range(N_from, N_to, N_jump)])\n",
    "    print(pd.DataFrame(dataset, \n",
    "                       index=[\"N=\"+str(i) for i in range(N_from, N_to, N_jump)], \n",
    "                       columns=[meth.__name__ for meth in METHS]\n",
    "                      ))"
   ]
  },
  {
   "cell_type": "code",
   "execution_count": 149,
   "metadata": {
    "collapsed": true
   },
   "outputs": [],
   "source": [
    "def SHOW_G(a, b, N):\n",
    "    METHS = np.array([mEU, mEUM1, mEUM2, mRK])\n",
    "    dataset = np.array([meth(a, b, N)[2] for meth in METHS])\n",
    "    X = np.linspace(a, b, 100)\n",
    "    Y = realY(X)\n",
    "    plt.plot(X, Y, label = \"$y(x)$\")\n",
    "    for meth in METHS:\n",
    "        RES = meth(a, b, N)\n",
    "        plt.plot(RES[0], RES[1], label = meth.__name__)\n",
    "    plt.grid(True)\n",
    "    plt.axis([a, b, min(Y)-1, max(Y)+1])\n",
    "    plt.legend()\n",
    "    plt.show()\n",
    "    print(pd.DataFrame(dataset, index=[meth.__name__ for meth in METHS], columns=[\"N=\"+str(N)]))"
   ]
  },
  {
   "cell_type": "code",
   "execution_count": 117,
   "metadata": {},
   "outputs": [
    {
     "name": "stdout",
     "output_type": "stream",
     "text": [
      "            mEU      mEUM1     mEUM2       mRK\n",
      "N=2   31.457298  14.378363  9.532813  3.016283\n",
      "N=6   18.941423   0.346354  2.045345  0.164856\n",
      "N=10  12.950113   0.109894  0.832062  0.034677\n",
      "N=14   9.847460   0.054767  0.446056  0.011583\n",
      "N=18   7.946695   0.033379  0.277064  0.004996\n"
     ]
    }
   ],
   "source": [
    "SHOW_T(0.25, 3, 2, 22, 4)"
   ]
  },
  {
   "cell_type": "code",
   "execution_count": 152,
   "metadata": {},
   "outputs": [
    {
     "data": {
      "image/png": "[encoded data removed]",
      "text/plain": [
       "<matplotlib.figure.Figure at 0xb5d50b8>"
      ]
     },
     "metadata": {},
     "output_type": "display_data"
    },
    {
     "name": "stdout",
     "output_type": "stream",
     "text": [
      "             N=4\n",
      "mEU    24.679884\n",
      "mEUM1   1.078260\n",
      "mEUM2   3.919949\n",
      "mRK     0.504886\n"
     ]
    }
   ],
   "source": [
    "SHOW_G(0.25, 3, 4)"
   ]
  },
  {
   "cell_type": "code",
   "execution_count": null,
   "metadata": {
    "collapsed": true
   },
   "outputs": [],
   "source": []
  }
 ],
 "metadata": {
  "kernelspec": {
   "display_name": "Python 3",
   "language": "python",
   "name": "python3"
  },
  "language_info": {
   "codemirror_mode": {
    "name": "ipython",
    "version": 3
   },
   "file_extension": ".py",
   "mimetype": "text/x-python",
   "name": "python",
   "nbconvert_exporter": "python",
   "pygments_lexer": "ipython3",
   "version": "3.6.1"
  }
 },
 "nbformat": 4,
 "nbformat_minor": 2
}
