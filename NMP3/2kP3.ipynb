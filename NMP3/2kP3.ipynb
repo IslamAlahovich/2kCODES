{
 "cells": [
  {
   "cell_type": "code",
   "execution_count": 161,
   "metadata": {
    "collapsed": true
   },
   "outputs": [],
   "source": [
    "import numpy as np\n",
    "import pandas as pd"
   ]
  },
  {
   "cell_type": "code",
   "execution_count": 162,
   "metadata": {
    "collapsed": true
   },
   "outputs": [],
   "source": [
    "#SOR\n",
    "#IN: A - square matrix, b - vector, eps - tolerance, w - relaxation factor\n",
    "#OUT: x - solution vector, it - num of iterations\n",
    "def SOR(A, b, eps, w):\n",
    "    x = np.zeros(len(b))\n",
    "    pre_x = np.array(x)\n",
    "    limit, it = 200, 0\n",
    "    while(np.max(np.absolute(np.dot(A, x) - b)) > eps and limit > it):\n",
    "        it += 1\n",
    "        for i in range(len(b)):\n",
    "            sum1, sum2 = sum(A[i][0:i]*x[0:i]), sum(A[i][i+1:]*pre_x[i+1:])\n",
    "            x[i] = (1.0 - w)*pre_x[i] + (w/A[i][i])*(b[i] - sum1 - sum2)\n",
    "        pre_x = np.array(x)\n",
    "    return x, it"
   ]
  },
  {
   "cell_type": "code",
   "execution_count": 163,
   "metadata": {
    "collapsed": true
   },
   "outputs": [],
   "source": [
    "#Jacobi Eigenvalue Algorithm\n",
    "#IN: A - square matrix, eps - tolerance\n",
    "#OUT: Eigenvalues vector, EV - colums of EigenVectors, it - num of iterations\n",
    "def JA_Eigenval(A, eps):\n",
    "    p, q = np.unravel_index(np.absolute(A - np.diag(np.diag(A))).argmax(), np.shape(A))\n",
    "    EV = np.identity(len(A))\n",
    "    it = 0\n",
    "    while(abs(A[p][q]) > eps and (p or q) and it < 20):\n",
    "        it += 1\n",
    "        tau = (A[p][p] - A[q][q])/(2*A[p][q])\n",
    "        if(tau == 0): t = 1.0\n",
    "        else: t = 1.0/(tau + np.sign(tau)*np.sqrt(tau**2 + 1.0))\n",
    "        c = 1.0/np.sqrt(t**2 + 1.0)\n",
    "        s = t*c\n",
    "        G = np.identity(len(A))\n",
    "        G[p][p], G[q][q], G[p][q], G[q][p] = c, c, s, -s\n",
    "        A = np.dot(G, np.dot(A, np.transpose(G)))\n",
    "        EV = np.dot(G, EV)\n",
    "        p, q = np.unravel_index(np.absolute(A - np.diag(np.diag(A))).argmax(), np.shape(A))\n",
    "    return np.diag(A), EV, it"
   ]
  },
  {
   "cell_type": "code",
   "execution_count": 173,
   "metadata": {},
   "outputs": [],
   "source": [
    "#SHOW\n",
    "def SHOW(A, b, eps, w):\n",
    "    OUT1 = SOR(A, b, eps, w)\n",
    "    OUT2 = JA_Eigenval(A, eps)\n",
    "    print(\"___________________________\")\n",
    "    print(\"SOR\")\n",
    "    print(\"---------------------------\")\n",
    "    print(\"Solution Vector: (\", \" \".join([str(a) for a in OUT1[0]]), \")\")\n",
    "    print(\"ITERATIONS: \", OUT1[1], \"\\n\")\n",
    "    print(\"___________________________\")\n",
    "    print(\"Jacobi Eigenvalue Algorithm\")\n",
    "    print(\"---------------------------\")\n",
    "    print(\"EigenValues: (\", ', '.join([str(a) for a in OUT2[0]]), \")\")\n",
    "    print(\"EigenVectors: \")\n",
    "    print(pd.DataFrame(OUT2[1]))\n",
    "    print(\"ITERATIONS: \", OUT2[2])"
   ]
  },
  {
   "cell_type": "code",
   "execution_count": 170,
   "metadata": {},
   "outputs": [
    {
     "name": "stdout",
     "output_type": "stream",
     "text": [
      "___________________________\n",
      "SOR\n",
      "---------------------------\n",
      "Solution Vector: ( 1.059406196 -0.465346367474 1.65346530541 )\n",
      "ITERATIONS:  11 \n",
      "\n",
      "___________________________\n",
      "Jacobi Eigenvalue Algorithm\n",
      "---------------------------\n",
      "EigenValues: ( 2.10950626134, -6.4884928786, 7.37898661726 )\n",
      "EigenVectors: \n",
      "          0         1         2\n",
      "0  0.981650  0.177412  0.069915\n",
      "1 -0.147357  0.938458 -0.312383\n",
      "2 -0.121032  0.296348  0.947380\n",
      "ITERATIONS:  6\n"
     ]
    }
   ],
   "source": [
    "A = [[2, 1, -1], \n",
    "     [1, -5, 4], \n",
    "     [-1, 4, 6]]\n",
    "b = [0, 10, 7]\n",
    "SHOW(A, b, 10**(-6), 0.9)"
   ]
  },
  {
   "cell_type": "code",
   "execution_count": 172,
   "metadata": {},
   "outputs": [
    {
     "name": "stdout",
     "output_type": "stream",
     "text": [
      "EigenValues: ( -61.7388531931, 22.7262228748, -16.3305484013, 78.3131787196 )\n",
      "EigenVectors: \n",
      "          0         1         2         3\n",
      "0  0.722066 -0.064902 -0.334624 -0.602026\n",
      "1  0.061441  0.738656 -0.589238  0.321576\n",
      "2  0.069953  0.667699  0.652792 -0.350922\n",
      "3  0.685531 -0.065975  0.338656  0.641098\n",
      "ITERATIONS:  19\n"
     ]
    }
   ],
   "source": [
    "#some hardly\n",
    "A = [[4.62, -0.38, 31.53, 62.106], \n",
    "     [-0.38, 5.2, -20.1, 3.5], \n",
    "     [31.53, -20.1, 3, 4],\n",
    "     [62.106, 3.5, 4, 10.15]]\n",
    "OUT = JA_Eigenval(A, 10**(-9))\n",
    "print(\"EigenValues: (\", ', '.join([str(a) for a in OUT[0]]), \")\")\n",
    "print(\"EigenVectors: \")\n",
    "print(pd.DataFrame(OUT[1]))\n",
    "print(\"ITERATIONS: \", OUT[2])"
   ]
  },
  {
   "cell_type": "code",
   "execution_count": null,
   "metadata": {
    "collapsed": true
   },
   "outputs": [],
   "source": []
  }
 ],
 "metadata": {
  "kernelspec": {
   "display_name": "Python 3",
   "language": "python",
   "name": "python3"
  },
  "language_info": {
   "codemirror_mode": {
    "name": "ipython",
    "version": 3
   },
   "file_extension": ".py",
   "mimetype": "text/x-python",
   "name": "python",
   "nbconvert_exporter": "python",
   "pygments_lexer": "ipython3",
   "version": "3.6.1"
  }
 },
 "nbformat": 4,
 "nbformat_minor": 2
}
