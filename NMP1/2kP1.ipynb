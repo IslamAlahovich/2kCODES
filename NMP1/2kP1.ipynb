{
 "cells": [
  {
   "cell_type": "code",
   "execution_count": 109,
   "metadata": {
    "collapsed": true
   },
   "outputs": [],
   "source": [
    "import numpy as np\n",
    "from scipy.misc import derivative\n",
    "import matplotlib.pyplot as plt"
   ]
  },
  {
   "cell_type": "code",
   "execution_count": 136,
   "metadata": {
    "collapsed": true
   },
   "outputs": [],
   "source": [
    "def myF(x):\n",
    "    return np.sin(4*x)"
   ]
  },
  {
   "cell_type": "code",
   "execution_count": 130,
   "metadata": {
    "collapsed": true
   },
   "outputs": [],
   "source": [
    "def takeDATA(a, b, n):\n",
    "    NODES = np.linspace(a, b, n+1)\n",
    "    VALUES = [myF(x) for x in NODES]\n",
    "    df0 = derivative(myF, NODES[0], dx=1e-6)\n",
    "    dfn = derivative(myF, NODES[len(NODES)-1], dx=1e-6)\n",
    "    print(\"NODES: \", [x for x in NODES])\n",
    "    print(\"VALUES: \", VALUES)\n",
    "    print(\"DERIVATIVE in \\nx0: \", df0, \"\\nxn: \", dfn)"
   ]
  },
  {
   "cell_type": "code",
   "execution_count": 5,
   "metadata": {
    "collapsed": true
   },
   "outputs": [],
   "source": [
    "#Метод ПРОГОНКИ\n",
    "def TMA(A, B):\n",
    "    KSI = [0]\n",
    "    ETA = [0]\n",
    "\n",
    "    for i in range(len(A)):\n",
    "        if(i == 0):\n",
    "            ksi = -A[i][i+1]/A[i][i]\n",
    "            eta = (B[i])/(A[i][i])\n",
    "            KSI.append(ksi)\n",
    "            ETA.append(eta)\n",
    "        elif(i == len(A)-1):\n",
    "            ksi = 0\n",
    "            eta = (B[i] - A[i][i-1]*ETA[i])/(A[i][i-1]*KSI[i] + A[i][i])\n",
    "            KSI.append(ksi)\n",
    "            ETA.append(eta)\n",
    "        else:\n",
    "            ksi = -A[i][i+1]/(A[i][i-1]*KSI[i] + A[i][i])\n",
    "            eta = (B[i] - A[i][i-1]*ETA[i])/(A[i][i-1]*KSI[i] + A[i][i])\n",
    "            KSI.append(ksi)\n",
    "            ETA.append(eta)\n",
    "        \n",
    "    X = [ETA[len(A)]]\n",
    "\n",
    "    for i in range(len(B)-1, -1, -1):\n",
    "        x = KSI[i+1]*X[0] + ETA[i+1]\n",
    "        X.insert(0, x)\n",
    "\n",
    "    X.pop()\n",
    "    return X"
   ]
  },
  {
   "cell_type": "code",
   "execution_count": 127,
   "metadata": {
    "collapsed": true
   },
   "outputs": [],
   "source": [
    "#Построение СПЛАЙНА\n",
    "def BuildSpline(a, b, n, NODES, VALUES, df0, dfn):\n",
    "    IntSteps = [NODES[i] - NODES[i-1] for i in range(1, n+1)]\n",
    "    A = [[0 for i in range(n+1)] for i in range(n+1)]\n",
    "    B = [0 for i in range(n+1)]\n",
    "\n",
    "    #-----ПОСТРОЕНИЕ-МАТРИЦЫ-СИСТЕМЫ----------------------------------------------\n",
    "    for i in range(len(A)):\n",
    "        if(i == 0):\n",
    "            A[i][i] = IntSteps[i]/3\n",
    "            A[i][i+1] = IntSteps[i]/6\n",
    "            B[i] = ((VALUES[i+1] - VALUES[i])/IntSteps[i]) - df0\n",
    "        elif(i == n):\n",
    "            A[i][i] = IntSteps[i-1]/3\n",
    "            A[i][i-1] = IntSteps[i-1]/6\n",
    "            B[i] = dfn - ((VALUES[i] - VALUES[i-1])/IntSteps[i-1])\n",
    "        else:\n",
    "            A[i][i-1] = IntSteps[i-1]\n",
    "            A[i][i] = 2*(IntSteps[i-1] + IntSteps[i])\n",
    "            A[i][i+1] = IntSteps[i]\n",
    "            B[i] = 6*(((VALUES[i+1] - VALUES[i])/IntSteps[i]) - ((VALUES[i] - VALUES[i-1])/IntSteps[i-1]))\n",
    "\n",
    "    #-----РЕШЕНИЕ-СИСТЕМЫ---------------------------------------------------------        \n",
    "    M = TMA(A, B)\n",
    "    #-----ПОСТРОЕНИЕ-ГРАФИКА------------------------------------------------------\n",
    "    fX = np.linspace(a, b, 100)\n",
    "    fY = [myF(x) for x in fX]\n",
    "\n",
    "    spX = np.linspace(a, b, 100)\n",
    "    spY = []\n",
    "    \n",
    "    for x in spX:\n",
    "        for i in range(1, n+1):\n",
    "            if(x <= NODES[i]): break\n",
    "        y = (M[i-1]*((NODES[i] - x)**3/(6*IntSteps[i-1])) + M[i]*((x - NODES[i-1])**3/(6*IntSteps[i-1])) \n",
    "            + (VALUES[i-1] - (M[i-1]*IntSteps[i-1]**2)/6)*(NODES[i] - x)/IntSteps[i-1] \n",
    "            + (VALUES[i] - (M[i]*IntSteps[i-1]**2)/6)*(x - NODES[i-1])/IntSteps[i-1])\n",
    "        spY.append(y)\n",
    "\n",
    "    up = max(max(spY), max(fY)) + 0.5\n",
    "    down = min(min(spY), min(fY)) - 0.5\n",
    "    \n",
    "    plt.plot(fX, fY, \"blue\", label = \"$myF$\") \n",
    "    plt.plot(spX, spY, \"red\", label = \"$Spline$\")\n",
    "    plt.plot(NODES, VALUES, \"o\", label = \"$DATA$\")\n",
    "    plt.grid(True)\n",
    "    plt.axis([a, b, down, up])\n",
    "    plt.legend()\n",
    "    plt.show()"
   ]
  },
  {
   "cell_type": "code",
   "execution_count": 142,
   "metadata": {},
   "outputs": [
    {
     "data": {
      "image/png": "[encoded data removed]",
      "text/plain": [
       "<matplotlib.figure.Figure at 0x8658da0>"
      ]
     },
     "metadata": {},
     "output_type": "display_data"
    }
   ],
   "source": [
    "BuildSpline(-1, 1, 4, \n",
    "            [-1.0, -0.5, 0.0, 0.5, 1.0], \n",
    "            [0.7568024953079282, -0.90929742682568171, 0.0, 0.90929742682568171, -0.7568024953079282], \n",
    "            -2.61457448336, -2.61457448336)"
   ]
  },
  {
   "cell_type": "code",
   "execution_count": 144,
   "metadata": {},
   "outputs": [
    {
     "name": "stdout",
     "output_type": "stream",
     "text": [
      "NODES:  [-1.0, -0.5, 0.0, 0.5, 1.0]\n",
      "VALUES:  [0.7568024953079282, -0.90929742682568171, 0.0, 0.90929742682568171, -0.7568024953079282]\n",
      "DERIVATIVE in \n",
      "x0:  -2.61457448336 \n",
      "xn:  -2.61457448336\n"
     ]
    }
   ],
   "source": [
    "takeDATA(-1, 1, 4)"
   ]
  },
  {
   "cell_type": "code",
   "execution_count": null,
   "metadata": {
    "collapsed": true
   },
   "outputs": [],
   "source": []
  }
 ],
 "metadata": {
  "kernelspec": {
   "display_name": "Python 3",
   "language": "python",
   "name": "python3"
  },
  "language_info": {
   "codemirror_mode": {
    "name": "ipython",
    "version": 3
   },
   "file_extension": ".py",
   "mimetype": "text/x-python",
   "name": "python",
   "nbconvert_exporter": "python",
   "pygments_lexer": "ipython3",
   "version": "3.6.1"
  }
 },
 "nbformat": 4,
 "nbformat_minor": 2
}
