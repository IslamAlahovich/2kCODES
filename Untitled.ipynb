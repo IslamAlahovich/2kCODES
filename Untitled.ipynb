{
 "cells": [
  {
   "cell_type": "code",
   "execution_count": 5,
   "metadata": {},
   "outputs": [
    {
     "name": "stdout",
     "output_type": "stream",
     "text": [
      "6953.422874999999\n"
     ]
    }
   ],
   "source": [
    "mk = (0.84 * 9.825) \n",
    "M = mk * 779.095\n",
    "print(M + (0.672*779.095))"
   ]
  },
  {
   "cell_type": "code",
   "execution_count": 36,
   "metadata": {
    "collapsed": true
   },
   "outputs": [],
   "source": [
    "#IN: ROUTES MATRIX\n",
    "#OUT: NUM OF OPTIMAL ROUTE\n",
    "def OPT_ROUTE(R):\n",
    "    gamma, sigma_city, sigma_forest, f, A, g, r = 2.4, 0.2, 0.8, 10.0, 779.095, 0.84, 25.0\n",
    "    Y = [0 for i in range(len(R))]\n",
    "    for route in range(len(R)):\n",
    "        sum_y = 0\n",
    "        for dis in R[route]:\n",
    "            y = 0\n",
    "            Q = dis[0] * r * 10**(-2)\n",
    "            mk = g * Q * 10**(-3)\n",
    "            M = A * mk\n",
    "            if(dis[1]): y = gamma * sigma_city * f * M\n",
    "            else: y = gamma * sigma_forest * f * M\n",
    "            sum_y += y\n",
    "        Y[route] = sum_y\n",
    "    return Y.index(min(Y))"
   ]
  },
  {
   "cell_type": "code",
   "execution_count": 35,
   "metadata": {},
   "outputs": [
    {
     "name": "stdout",
     "output_type": "stream",
     "text": [
      "0\n"
     ]
    }
   ],
   "source": [
    "#R - матрица путей.\n",
    "#Каждый путь - двумерный массив, содержащий промежутки - одномерные массивы,\n",
    "# в которых первый элемент - расстояние, второй - 0 или 1(0 если промежуток в лесу, 1 если в городе)\n",
    "\n",
    "R = [\n",
    "      [[39.3, 1], [97.4, 0], [189, 0], [3.2, 1]],# путь A\n",
    "      [[12.3, 1], [238, 0], [189, 0], [3.2, 1]]  # путь B\n",
    "    ]\n",
    "print(F(R))"
   ]
  },
  {
   "cell_type": "code",
   "execution_count": 1,
   "metadata": {
    "collapsed": true
   },
   "outputs": [],
   "source": [
    "import numpy as np"
   ]
  },
  {
   "cell_type": "code",
   "execution_count": 3,
   "metadata": {},
   "outputs": [
    {
     "data": {
      "text/plain": [
       "array([[  0,   1,   2,   3,   4,   5,   6,   7,   8,   9,  10,  11],\n",
       "       [ 12,  13,  14,  15,  16,  17,  18,  19,  20,  21,  22,  23],\n",
       "       [ 24,  25,  26,  27,  28,  29,  30,  31,  32,  33,  34,  35],\n",
       "       [ 36,  37,  38,  39,  40,  41,  42,  43,  44,  45,  46,  47],\n",
       "       [ 48,  49,  50,  51,  52,  53,  54,  55,  56,  57,  58,  59],\n",
       "       [ 60,  61,  62,  63,  64,  65,  66,  67,  68,  69,  70,  71],\n",
       "       [ 72,  73,  74,  75,  76,  77,  78,  79,  80,  81,  82,  83],\n",
       "       [ 84,  85,  86,  87,  88,  89,  90,  91,  92,  93,  94,  95],\n",
       "       [ 96,  97,  98,  99, 100, 101, 102, 103, 104, 105, 106, 107],\n",
       "       [108, 109, 110, 111, 112, 113, 114, 115, 116, 117, 118, 119]])"
      ]
     },
     "execution_count": 3,
     "metadata": {},
     "output_type": "execute_result"
    }
   ],
   "source": [
    "A = np.arange(120).reshape(10, -1)\n",
    "A"
   ]
  },
  {
   "cell_type": "code",
   "execution_count": 41,
   "metadata": {},
   "outputs": [
    {
     "data": {
      "text/plain": [
       "585"
      ]
     },
     "execution_count": 41,
     "metadata": {},
     "output_type": "execute_result"
    }
   ],
   "source": [
    "np.diag(A).sum()"
   ]
  },
  {
   "cell_type": "code",
   "execution_count": null,
   "metadata": {
    "collapsed": true
   },
   "outputs": [],
   "source": []
  }
 ],
 "metadata": {
  "kernelspec": {
   "display_name": "Python 3",
   "language": "python",
   "name": "python3"
  },
  "language_info": {
   "codemirror_mode": {
    "name": "ipython",
    "version": 3
   },
   "file_extension": ".py",
   "mimetype": "text/x-python",
   "name": "python",
   "nbconvert_exporter": "python",
   "pygments_lexer": "ipython3",
   "version": "3.6.1"
  }
 },
 "nbformat": 4,
 "nbformat_minor": 2
}
