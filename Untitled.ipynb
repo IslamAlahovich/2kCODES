{
 "cells": [
  {
   "cell_type": "code",
   "execution_count": 5,
   "metadata": {},
   "outputs": [
    {
     "name": "stdout",
     "output_type": "stream",
     "text": [
      "6953.422874999999\n"
     ]
    }
   ],
   "source": [
    "mk = (0.84 * 9.825) \n",
    "M = mk * 779.095\n",
    "print(M + (0.672*779.095))"
   ]
  },
  {
   "cell_type": "code",
   "execution_count": 36,
   "metadata": {
    "collapsed": true
   },
   "outputs": [],
   "source": [
    "#IN: ROUTES MATRIX\n",
    "#OUT: NUM OF OPTIMAL ROUTE\n",
    "def OPT_ROUTE(R):\n",
    "    gamma, sigma_city, sigma_forest, f, A, g, r = 2.4, 0.2, 0.8, 10.0, 779.095, 0.84, 25.0\n",
    "    Y = [0 for i in range(len(R))]\n",
    "    for route in range(len(R)):\n",
    "        sum_y = 0\n",
    "        for dis in R[route]:\n",
    "            y = 0\n",
    "            Q = dis[0] * r * 10**(-2)\n",
    "            mk = g * Q * 10**(-3)\n",
    "            M = A * mk\n",
    "            if(dis[1]): y = gamma * sigma_city * f * M\n",
    "            else: y = gamma * sigma_forest * f * M\n",
    "            sum_y += y\n",
    "        Y[route] = sum_y\n",
    "    return Y.index(min(Y))"
   ]
  },
  {
   "cell_type": "code",
   "execution_count": 35,
   "metadata": {},
   "outputs": [
    {
     "name": "stdout",
     "output_type": "stream",
     "text": [
      "0\n"
     ]
    }
   ],
   "source": [
    "#R - матрица путей.\n",
    "#Каждый путь - двумерный массив, содержащий промежутки - одномерные массивы,\n",
    "# в которых первый элемент - расстояние, второй - 0 или 1(0 если промежуток в лесу, 1 если в городе)\n",
    "\n",
    "R = [\n",
    "      [[39.3, 1], [97.4, 0], [189, 0], [3.2, 1]],# путь A\n",
    "      [[12.3, 1], [238, 0], [189, 0], [3.2, 1]]  # путь B\n",
    "    ]\n",
    "print(F(R))"
   ]
  },
  {
   "cell_type": "code",
   "execution_count": null,
   "metadata": {
    "collapsed": true
   },
   "outputs": [],
   "source": []
  },
  {
   "cell_type": "code",
   "execution_count": null,
   "metadata": {
    "collapsed": true
   },
   "outputs": [],
   "source": []
  }
 ],
 "metadata": {
  "kernelspec": {
   "display_name": "Python 3",
   "language": "python",
   "name": "python3"
  },
  "language_info": {
   "codemirror_mode": {
    "name": "ipython",
    "version": 3
   },
   "file_extension": ".py",
   "mimetype": "text/x-python",
   "name": "python",
   "nbconvert_exporter": "python",
   "pygments_lexer": "ipython3",
   "version": "3.6.1"
  }
 },
 "nbformat": 4,
 "nbformat_minor": 2
}
