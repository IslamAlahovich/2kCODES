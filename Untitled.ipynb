{
 "cells": [
  {
   "cell_type": "code",
   "execution_count": 11,
   "metadata": {
    "collapsed": true
   },
   "outputs": [],
   "source": [
    "from math import sqrt\n",
    "import matplotlib.pyplot as plt"
   ]
  },
  {
   "cell_type": "code",
   "execution_count": 5,
   "metadata": {},
   "outputs": [
    {
     "name": "stdout",
     "output_type": "stream",
     "text": [
      "6953.422874999999\n"
     ]
    }
   ],
   "source": [
    "mk = (0.84 * 9.825) \n",
    "M = mk * 779.095\n",
    "print(M + (0.672*779.095))"
   ]
  },
  {
   "cell_type": "code",
   "execution_count": 36,
   "metadata": {
    "collapsed": true
   },
   "outputs": [],
   "source": [
    "#IN: ROUTES MATRIX\n",
    "#OUT: NUM OF OPTIMAL ROUTE\n",
    "def OPT_ROUTE(R):\n",
    "    gamma, sigma_city, sigma_forest, f, A, g, r = 2.4, 0.2, 0.8, 10.0, 779.095, 0.84, 25.0\n",
    "    Y = [0 for i in range(len(R))]\n",
    "    for route in range(len(R)):\n",
    "        sum_y = 0\n",
    "        for dis in R[route]:\n",
    "            y = 0\n",
    "            Q = dis[0] * r * 10**(-2)\n",
    "            mk = g * Q * 10**(-3)\n",
    "            M = A * mk\n",
    "            if(dis[1]): y = gamma * sigma_city * f * M\n",
    "            else: y = gamma * sigma_forest * f * M\n",
    "            sum_y += y\n",
    "        Y[route] = sum_y\n",
    "    return Y.index(min(Y))"
   ]
  },
  {
   "cell_type": "code",
   "execution_count": 35,
   "metadata": {},
   "outputs": [
    {
     "name": "stdout",
     "output_type": "stream",
     "text": [
      "0\n"
     ]
    }
   ],
   "source": [
    "#R - матрица путей.\n",
    "#Каждый путь - двумерный массив, содержащий промежутки - одномерные массивы,\n",
    "# в которых первый элемент - расстояние, второй - 0 или 1(0 если промежуток в лесу, 1 если в городе)\n",
    "\n",
    "R = [\n",
    "      [[39.3, 1], [97.4, 0], [189, 0], [3.2, 1]],# путь A\n",
    "      [[12.3, 1], [238, 0], [189, 0], [3.2, 1]]  # путь B\n",
    "    ]\n",
    "print(F(R))"
   ]
  },
  {
   "cell_type": "code",
   "execution_count": 1,
   "metadata": {
    "collapsed": true
   },
   "outputs": [],
   "source": [
    "import numpy as np"
   ]
  },
  {
   "cell_type": "code",
   "execution_count": 3,
   "metadata": {},
   "outputs": [
    {
     "data": {
      "text/plain": [
       "array([[  0,   1,   2,   3,   4,   5,   6,   7,   8,   9,  10,  11],\n",
       "       [ 12,  13,  14,  15,  16,  17,  18,  19,  20,  21,  22,  23],\n",
       "       [ 24,  25,  26,  27,  28,  29,  30,  31,  32,  33,  34,  35],\n",
       "       [ 36,  37,  38,  39,  40,  41,  42,  43,  44,  45,  46,  47],\n",
       "       [ 48,  49,  50,  51,  52,  53,  54,  55,  56,  57,  58,  59],\n",
       "       [ 60,  61,  62,  63,  64,  65,  66,  67,  68,  69,  70,  71],\n",
       "       [ 72,  73,  74,  75,  76,  77,  78,  79,  80,  81,  82,  83],\n",
       "       [ 84,  85,  86,  87,  88,  89,  90,  91,  92,  93,  94,  95],\n",
       "       [ 96,  97,  98,  99, 100, 101, 102, 103, 104, 105, 106, 107],\n",
       "       [108, 109, 110, 111, 112, 113, 114, 115, 116, 117, 118, 119]])"
      ]
     },
     "execution_count": 3,
     "metadata": {},
     "output_type": "execute_result"
    }
   ],
   "source": [
    "A = np.arange(120).reshape(10, -1)\n",
    "A"
   ]
  },
  {
   "cell_type": "code",
   "execution_count": 41,
   "metadata": {},
   "outputs": [
    {
     "data": {
      "text/plain": [
       "585"
      ]
     },
     "execution_count": 41,
     "metadata": {},
     "output_type": "execute_result"
    }
   ],
   "source": [
    "np.diag(A).sum()"
   ]
  },
  {
   "cell_type": "code",
   "execution_count": 2,
   "metadata": {},
   "outputs": [
    {
     "name": "stdout",
     "output_type": "stream",
     "text": [
      "1.466726590487914\n"
     ]
    }
   ],
   "source": [
    "res=0\n",
    "for t in range(1, 68):\n",
    "    res+=t*(124/190)*(1-(t/190))**(123)\n",
    "print(res)"
   ]
  },
  {
   "cell_type": "code",
   "execution_count": 13,
   "metadata": {},
   "outputs": [
    {
     "name": "stdout",
     "output_type": "stream",
     "text": [
      "4\n"
     ]
    }
   ],
   "source": [
    "n = 7\n",
    "count = 0\n",
    "for p in range(n+1):\n",
    "    if p%2!=0: count+=1\n",
    "print(count)"
   ]
  },
  {
   "cell_type": "code",
   "execution_count": 15,
   "metadata": {},
   "outputs": [
    {
     "name": "stdout",
     "output_type": "stream",
     "text": [
      "-1\n"
     ]
    }
   ],
   "source": [
    "a = 'abc'\n",
    "try:\n",
    "    int(a)\n",
    "except:\n",
    "    print(-1)"
   ]
  },
  {
   "cell_type": "code",
   "execution_count": 33,
   "metadata": {},
   "outputs": [
    {
     "data": {
      "text/plain": [
       "0"
      ]
     },
     "execution_count": 33,
     "metadata": {},
     "output_type": "execute_result"
    }
   ],
   "source": [
    "16&15"
   ]
  },
  {
   "cell_type": "code",
   "execution_count": 114,
   "metadata": {},
   "outputs": [
    {
     "name": "stdout",
     "output_type": "stream",
     "text": [
      "1/3\n"
     ]
    }
   ],
   "source": [
    "def gcd(a, b):\n",
    "    while a != 0 and b != 0:\n",
    "        if a > b:\n",
    "            a = a % b\n",
    "        else:\n",
    "            b = b % a\n",
    "    return a + b\n",
    "a = [1, 1, 3, 4]\n",
    "num = min(a)\n",
    "a.remove(max(a))\n",
    "den = max(a)\n",
    "kr = gcd(num, den)\n",
    "print(str(int(num/kr)) + \"/\" + str(int(den/kr)))"
   ]
  },
  {
   "cell_type": "code",
   "execution_count": 112,
   "metadata": {},
   "outputs": [
    {
     "data": {
      "text/plain": [
       "[1, 1, 1]"
      ]
     },
     "execution_count": 112,
     "metadata": {},
     "output_type": "execute_result"
    }
   ],
   "source": [
    "a = [1, 1, 1, 1]\n",
    "a.remove(max(a))\n",
    "a"
   ]
  },
  {
   "cell_type": "code",
   "execution_count": 42,
   "metadata": {},
   "outputs": [
    {
     "data": {
      "text/plain": [
       "0"
      ]
     },
     "execution_count": 42,
     "metadata": {},
     "output_type": "execute_result"
    }
   ],
   "source": [
    "def gcd(a, b):\n",
    "    while a != 0 and b != 0:\n",
    "        if a > b:\n",
    "            a = a % b\n",
    "        else:\n",
    "            b = b % a\n",
    "    return a + b\n",
    "a = [int(k) for k in input().split()]\n",
    "num = min(a)\n",
    "a.remove(max(a))\n",
    "den = max(a)\n",
    "kr = gcd(num, den)\n",
    "print(str(num//kr) + \"/\" + str(den//kr))"
   ]
  },
  {
   "cell_type": "code",
   "execution_count": 97,
   "metadata": {},
   "outputs": [
    {
     "name": "stdout",
     "output_type": "stream",
     "text": [
      "a g\n",
      "b f\n",
      "c e\n",
      "2\n"
     ]
    }
   ],
   "source": [
    "a = \"abcdefg\"\n",
    "count = 0\n",
    "for i in range(int(len(a)/2)):\n",
    "    print(a[i], a[len(a)-1-i])\n",
    "    if a[i]!=a[len(a)-1-i]: count+=1\n",
    "print(count-1)"
   ]
  },
  {
   "cell_type": "code",
   "execution_count": null,
   "metadata": {
    "collapsed": true
   },
   "outputs": [],
   "source": [
    "a = input()\n",
    "a_b = a[0:int(len(a)/2)]\n",
    "a_c = a[len(a)-1:int((len(a)-1)/2):-1]\n",
    "count = 0\n",
    "for i in range(len(a_b)):\n",
    "    if a_b[i]!=a_c[i]: count+=1\n",
    "print(count-1)"
   ]
  },
  {
   "cell_type": "code",
   "execution_count": 107,
   "metadata": {},
   "outputs": [
    {
     "name": "stdout",
     "output_type": "stream",
     "text": [
      "ab\n",
      "False\n",
      "aba\n",
      "False\n",
      "abac\n",
      "False\n",
      "abaca\n",
      "False\n",
      "abacad\n",
      "True\n",
      "abacada\n",
      "True\n",
      "abacadab\n",
      "True\n",
      "abacadaba\n",
      "True\n"
     ]
    }
   ],
   "source": [
    "a = \"abacadaba\"\n",
    "for i in range(2, len(a)+1):\n",
    "    set_a = set(a[:i])\n",
    "    while k>0:\n",
    "        if i%2==0:\n",
    "            "
   ]
  },
  {
   "cell_type": "code",
   "execution_count": null,
   "metadata": {
    "collapsed": true
   },
   "outputs": [],
   "source": [
    "def pe(a):\n",
    "    set_a = set(a)\n",
    "    if len(a)%2==0:\n",
    "        if set_a == set(a[:len(a)/2]) and set(a[len(a)-1:len(a)/2:-1]): return 1\n",
    "        else:\n",
    "            if set_a == set(a[:len(a)/2]): return a[:len(a)/2]\n",
    "            elif set(a[len(a)-1:len(a)/2:-1]): return a[len(a)-1:len(a)/2:-1]\n",
    "    else:"
   ]
  },
  {
   "cell_type": "code",
   "execution_count": null,
   "metadata": {
    "collapsed": true
   },
   "outputs": [],
   "source": [
    "fig = plt.figure(figsize=plt.figaspect(0.5))\n",
    "ax = fig.add_subplot(1, 2, 1, projection='3d')\n",
    "surf = ax.plot_surface(Xnd, Ynd, SOL[0], cmap=cm.coolwarm, linewidth=0, antialiased=False)\n",
    "ax.zaxis.set_major_locator(LinearLocator(10))\n",
    "ax.zaxis.set_major_formatter(FormatStrFormatter('%.02f'))\n",
    "ax.set_xlabel('x')\n",
    "ax.set_ylabel('y')\n",
    "ax.set_zlabel('u')\n",
    "    \n",
    "ax = fig.add_subplot(1, 2, 2, projection='3d') \n",
    "Xnd, Ynd = np.meshgrid(np.linspace(a, b, 101), np.linspace(c, d, 101))\n",
    "surf = ax.plot_surface(Xnd, Ynd, U(Xnd, Ynd), cmap=cm.coolwarm, linewidth=0, antialiased=False)\n",
    "ax.zaxis.set_major_locator(LinearLocator(10))\n",
    "ax.zaxis.set_major_formatter(FormatStrFormatter('%.02f'))\n",
    "ax.set_xlabel('x')\n",
    "ax.set_ylabel('y')\n",
    "ax.set_zlabel('u')"
   ]
  },
  {
   "cell_type": "code",
   "execution_count": 2,
   "metadata": {
    "collapsed": true
   },
   "outputs": [],
   "source": [
    "def b(x, y, dx): return [x+dx, sqrt(1-(dx+x)**2)]"
   ]
  },
  {
   "cell_type": "code",
   "execution_count": 15,
   "metadata": {
    "collapsed": true
   },
   "outputs": [],
   "source": [
    "def ite(x0, y0, dx, n):\n",
    "    ARG, VAL = [x0], [y0]\n",
    "    for i in range(n):\n",
    "        ANS = b(ARG[i], VAL[i], dx)\n",
    "        ARG.append(ANS[0])\n",
    "        VAL.append(ANS[1])\n",
    "    return ARG, VAL"
   ]
  },
  {
   "cell_type": "code",
   "execution_count": 19,
   "metadata": {},
   "outputs": [
    {
     "data": {
      "image/png": "[encoded data removed]",
      "text/plain": [
       "<matplotlib.figure.Figure at 0x8794588>"
      ]
     },
     "metadata": {},
     "output_type": "display_data"
    }
   ],
   "source": [
    "ARG, VAL = ite(-1, 0, 0.01, 99)\n",
    "fig, ax = plt.subplots(figsize=(16, 8))\n",
    "ax.plot(ARG, VAL, color='red', label='Empirical')\n",
    "ax.grid(True)\n",
    "ax.legend(loc='right')\n",
    "ax.set_title('Empirical and Theoretical CDF')\n",
    "plt.gca().set_aspect(\"equal\")\n",
    "plt.show()"
   ]
  },
  {
   "cell_type": "code",
   "execution_count": null,
   "metadata": {
    "collapsed": true
   },
   "outputs": [],
   "source": []
  }
 ],
 "metadata": {
  "kernelspec": {
   "display_name": "Python 3",
   "language": "python",
   "name": "python3"
  },
  "language_info": {
   "codemirror_mode": {
    "name": "ipython",
    "version": 3
   },
   "file_extension": ".py",
   "mimetype": "text/x-python",
   "name": "python",
   "nbconvert_exporter": "python",
   "pygments_lexer": "ipython3",
   "version": "3.6.1"
  }
 },
 "nbformat": 4,
 "nbformat_minor": 2
}
