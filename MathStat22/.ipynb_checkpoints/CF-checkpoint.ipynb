{
 "cells": [
  {
   "cell_type": "code",
   "execution_count": 12,
   "metadata": {
    "collapsed": true
   },
   "outputs": [],
   "source": [
    "from scipy.stats import norm, t, chi2, kstwobign, uniform, f \n",
    "from scipy import stats\n",
    "from math import sqrt, ceil, floor\n",
    "#---\n",
    "import numpy as np\n",
    "import matplotlib.pyplot as plt"
   ]
  },
  {
   "cell_type": "code",
   "execution_count": 13,
   "metadata": {
    "collapsed": true
   },
   "outputs": [],
   "source": [
    "%matplotlib inline"
   ]
  },
  {
   "cell_type": "code",
   "execution_count": 14,
   "metadata": {
    "collapsed": true
   },
   "outputs": [],
   "source": [
    "def CI(X, alph, sigma2, eps, flg):\n",
    "    n = len(X)\n",
    "    if flg==1: \n",
    "        mom1, tau = sum(X)/n, norm.ppf(1-eps/2)\n",
    "        return [mom1-tau*sqrt(sigma2/n), mom1+tau*sqrt(sigma2/n)], mom1, tau\n",
    "    elif flg==2:\n",
    "        S21, g1, g2 = sum([(x-alph)**2 for x in X])/n, chi2.ppf(eps/2, n), chi2.ppf(1-eps/2, n)\n",
    "        return [n*S21/g2, n*S21/g1], S21, g1, g2\n",
    "    elif flg==3:\n",
    "        mom1, g1, g2 = sum(X)/n, chi2.ppf(eps/2, n-1), chi2.ppf(1-eps/2, n-1)\n",
    "        S20 = sum([(x-mom1)**2 for x in X])/(n-1)\n",
    "        return [(n-1)*S20/g2, (n-1)*S20/g1], mom1, g1, g2, S20\n",
    "    else:\n",
    "        mom1, c = sum(X)/n, stats.t.ppf(1-eps/2, n-1)\n",
    "        S20 = sum([(x-mom1)**2 for x in X])/(n-1)\n",
    "        return [mom1-c*sqrt(S20/n), mom1+c*sqrt(S20/n)], mom1, c, S20"
   ]
  },
  {
   "cell_type": "code",
   "execution_count": 15,
   "metadata": {
    "collapsed": true
   },
   "outputs": [],
   "source": [
    "def HT_UD(X, eps, k, flg):\n",
    "    if flg==1: \n",
    "        n, C = len(X), kstwobign.ppf(1-eps)\n",
    "        res, data1 = EmpCDF_Val(X)\n",
    "        res, data1 = EmpCDF(data1, res)\n",
    "        sup = max(abs(res-uniform.cdf(data1)))\n",
    "        rho = sqrt(n)*sup\n",
    "        if rho<C: return True, C, sup, rho\n",
    "        else: return False, C, sup, rho\n",
    "    else:\n",
    "        np, rho, C = len(X)/k, 0, chi2.ppf(1-eps, k-1)\n",
    "        for j in range(1, k+1):rho+=(len([x for x in X if x>=(j-1)/k and x<j/k])-np)**2/np\n",
    "        if rho<C: return True, C, rho\n",
    "        else: return False, C, rho"
   ]
  },
  {
   "cell_type": "code",
   "execution_count": 16,
   "metadata": {
    "collapsed": true
   },
   "outputs": [],
   "source": [
    "def HT_UC(X, Y, eps, flg):\n",
    "    n, m = len(X), len(Y)\n",
    "    momX, momY = sum(X)/n, sum(Y)/m\n",
    "    S02X, S02Y = sum([(x-momX)**2 for x in X])/(n-1), sum([(y-momY)**2 for y in Y])/(m-1)\n",
    "    if flg==1:\n",
    "        rho, g1, g2 = (n*(m-1)/(m*(n-1)))*S02X/S02Y, f.ppf(eps/2, n-1, m-1), f.ppf(1-eps/2, n-1, m-1)\n",
    "        if g1<rho and rho<g2: return True, momX, momY, S02X, S02Y, rho, g1, g2\n",
    "        else: return False, momX, momY, S02X, S02Y, g1, g2\n",
    "    else:\n",
    "        rho, C = sqrt(n*m/(n+m))*(momX-momY)/sqrt(((n-1)*S02X+(m-1)*S02Y)/(n+m-2)), t.ppf(1-(eps)/2, n+m-2)\n",
    "        if abs(rho)<C: return True, momX, momY, S02X, S02Y, rho, C\n",
    "        else: return False, momX, momY, S02X, S02Y, rho, C"
   ]
  },
  {
   "cell_type": "code",
   "execution_count": 17,
   "metadata": {
    "collapsed": true
   },
   "outputs": [],
   "source": [
    "def EmpCDF_Val(DATA):\n",
    "    data1, s = list(set(DATA)), len(DATA)\n",
    "    data1.sort()\n",
    "    return [len([d for d in DATA if d<=data1[i]])/s for i in range(len(data1))], data1"
   ]
  },
  {
   "cell_type": "code",
   "execution_count": 18,
   "metadata": {
    "collapsed": true
   },
   "outputs": [],
   "source": [
    "def EmpCDF(DATA, RES, eps=0.0001):\n",
    "    NODS = [DATA[0]]+[DATA[ceil(i/2)]-eps*(i%2!=0) for i in range(1, len(DATA)*2-2)]+[DATA[len(DATA)-1]]\n",
    "    VALS = [RES[floor(i/2)] for i in range(len(DATA)*2-1)]\n",
    "    return VALS, NODS"
   ]
  },
  {
   "cell_type": "code",
   "execution_count": 19,
   "metadata": {
    "collapsed": true
   },
   "outputs": [],
   "source": [
    "def SHOW(DATA, alph, sigmasq, eps, k=5, n=20, m=30):\n",
    "    DATA1, DATA2, DATA = DATA[0:n], DATA[n:n+m], DATA[m+n:len(DATA)]\n",
    "    s = len(DATA)\n",
    "    print(\"___________________________\")\n",
    "    print(\"TASK1: Confidence Interval\")\n",
    "    print(\"___________________________\")\n",
    "    print(\"DATA:\", \"\\n\", DATA1+DATA2)\n",
    "    print(\"---------------------------\")\n",
    "    print(\"a, sigma^2=\", sigmasq)\n",
    "    print(\"---------------------------\")\n",
    "    sol = CI(DATA1+DATA2, alph, sigmasq, eps, 1)\n",
    "    print(\"Sample_Mean: \", sol[1], \"; Quantile: \", sol[2], \";\")\n",
    "    print(\"CI: \", sol[0])\n",
    "    print(\"---------------------------\")\n",
    "    print(\"sigma^2, a=\", alph)\n",
    "    print(\"---------------------------\")\n",
    "    sol = CI(DATA1+DATA2, alph, sigmasq, eps,2)\n",
    "    print(\"Sample_Variance: \", sol[1], \"; \\nQuantile1: \", sol[2], \"; Quantile2: \", sol[3], \";\")\n",
    "    print(\"CI: \", sol[0])\n",
    "    print(\"---------------------------\")\n",
    "    print(\"sigma^2, a=?\")\n",
    "    print(\"---------------------------\")\n",
    "    sol = CI(DATA1+DATA2, alph, sigmasq, eps,3)\n",
    "    print(\"Sample_Mean: \", sol[1], \"; Unbiased_Sample_Variance: \", sol[4], \n",
    "          \"; \\nQuantile1: \", sol[2], \"; Quantile2: \", sol[3], \";\")\n",
    "    print(\"CI: \", sol[0])\n",
    "    print(\"---------------------------\")\n",
    "    print(\"a, sigma^2=?\")\n",
    "    print(\"---------------------------\")\n",
    "    sol = CI(DATA1+DATA2, alph, sigmasq, eps, 4)\n",
    "    print(\"Sample_Mean: \", sol[1], \"; Unbiased_Sample_Variance: \", sol[3], \"; \\nQuantile: \", sol[2], \";\")\n",
    "    print(\"CI: \", sol[0])\n",
    "    print(\"___________________________\")\n",
    "    print(\"TASK2: The Hypothesis of Uniform Distribution\")\n",
    "    print(\"___________________________\")\n",
    "    print(\"DATA:\", \"\\n\", DATA)\n",
    "    print(\"---------------------------\")\n",
    "    print(\"Kolmogorov–Smirnov test\")\n",
    "    print(\"---------------------------\")\n",
    "    sol = HT_UD(DATA, eps, k, 1)\n",
    "    res, data1 = EmpCDF_Val(DATA)\n",
    "    res, data1 = EmpCDF(data1, res)\n",
    "    fig, ax = plt.subplots(figsize=(16, 8))\n",
    "    ax.plot(data1, res, color='red', label='Empirical')\n",
    "    ax.plot(data1, uniform.cdf(data1), 'k--', linewidth=1.5, label='Theoretical')\n",
    "    ax.grid(True)\n",
    "    ax.legend(loc='right')\n",
    "    ax.set_title('Empirical and Theoretical CDF')\n",
    "    plt.show()\n",
    "    print(\"Supremum: \", sol[2], \"; Rho: \", sol[3], \"; Quantile: \", sol[1], \";\")\n",
    "    print(\"SOL: \", sol[0])\n",
    "    print(\"---------------------------\")\n",
    "    print(\"Chi-Squared test\")\n",
    "    print(\"---------------------------\")\n",
    "    sol = HT_UD(DATA, eps, k, 2)\n",
    "    print(\"Rho: \", sol[2], \"; Quantile: \", sol[1], \";\")\n",
    "    print(\"SOL: \", sol[0])\n",
    "    print(\"___________________________\")\n",
    "    print(\"TASK3: The Hypothesis of Homogeneity of Distributions\")\n",
    "    print(\"___________________________\")\n",
    "    print(\"DATA_X:\", \"\\n\", DATA1)\n",
    "    print(\"DATA_Y:\", \"\\n\", DATA2)\n",
    "    sol = HT_UC(DATA1, DATA2, eps, 1)\n",
    "    print(\"\\nSample_Mean_X: \", sol[1], \"; Sample_Mean_Y: \", sol[2], \n",
    "          \"; \\nUnbiased_Sample_Variance_X: \", sol[3], \"; Unbiased_Sample_Variance_Y: \", sol[4], \";\")\n",
    "    print(\"---------------------------\")\n",
    "    print(\"F-test\")\n",
    "    print(\"---------------------------\")\n",
    "    print(\"Rho: \", sol[5], \"; \\nQuantile1: \", sol[6], \"; Quantile2: \", sol[7], \";\")\n",
    "    print(\"SOL: \", sol[0])\n",
    "    print(\"---------------------------\")\n",
    "    print(\"t-test\")\n",
    "    print(\"---------------------------\")\n",
    "    sol = HT_UC(DATA1, DATA2, eps, 2)\n",
    "    print(\"Rho: \", sol[5], \"; Quantile1: \", sol[6], \";\")\n",
    "    print(\"SOL: \", sol[0])"
   ]
  },
  {
   "cell_type": "code",
   "execution_count": 20,
   "metadata": {},
   "outputs": [
    {
     "name": "stdout",
     "output_type": "stream",
     "text": [
      "___________________________\n",
      "TASK1: Confidence Interval\n",
      "___________________________\n",
      "DATA: \n",
      " [-0.929, -0.378, -1.741, -0.475, -0.66, -1.04, 0.054, -1.459, -0.624, -1.114, 0.385, -0.211, -0.41, -1.42, -0.75, 0.394, -1.25, -1.548, -2.938, -0.466, -1.912, 0.146, -0.841, -0.327, -1.163, -0.858, -1.441, -2.064, 0.585, -0.041, -1.863, -0.747, -2.007, -1.51, -0.463, -1.305, 0.508, -1.569, 0.292, -1.275, -0.084, -1.861, 0.405, -0.656, -2.964, -1.153, -1.769, -1.091, -0.736, -1.499]\n",
      "---------------------------\n",
      "a, sigma^2= 0.9\n",
      "---------------------------\n",
      "Sample_Mean:  -0.9168599999999999 ; Quantile:  1.81191067295 ;\n",
      "CI:  [-1.1599533260327637, -0.67376667396723611]\n",
      "---------------------------\n",
      "sigma^2, a= -1.0\n",
      "---------------------------\n",
      "Sample_Variance:  0.6998377799999999 ; \n",
      "Quantile1:  33.4734113975 ; Quantile2:  69.562730917 ;\n",
      "CI:  [0.50302638408146449, 1.045363694319724]\n",
      "---------------------------\n",
      "sigma^2, a=?\n",
      "---------------------------\n",
      "Sample_Mean:  -0.9168599999999999 ; Unbiased_Sample_Variance:  0.7070668575510205 ; \n",
      "Quantile1:  32.6561836145 ; Quantile2:  68.3797952957 ;\n",
      "CI:  [0.50667416990895664, 1.0609407525677954]\n",
      "---------------------------\n",
      "a, sigma^2=?\n",
      "---------------------------\n",
      "Sample_Mean:  -0.9168599999999999 ; Unbiased_Sample_Variance:  0.7070668575510205 ; \n",
      "Quantile:  1.85237920629 ;\n",
      "CI:  [-1.1371400343517906, -0.69657996564820923]\n",
      "___________________________\n",
      "TASK2: The Hypothesis of Uniform Distribution\n",
      "___________________________\n",
      "DATA: \n",
      " [0.757, 0.199, 0.507, 0.665, 0.492, 0.716, 0.171, 0.709, 0.978, 0.773, 0.957, 0.05, 0.283, 0.024, 0.493, 0.378, 0.355, 0.476, 0.886, 0.316, 0.491, 0.262, 0.755, 0.518, 0.494, 0.846, 0.473, 0.815, 0.121, 0.73]\n",
      "---------------------------\n",
      "Kolmogorov–Smirnov test\n",
      "---------------------------\n"
     ]
    },
    {
     "data": {
      "image/png": "[encoded data removed]",
      "text/plain": [
       "<matplotlib.figure.Figure at 0x8cafac8>"
      ]
     },
     "metadata": {},
     "output_type": "display_data"
    },
    {
     "name": "stdout",
     "output_type": "stream",
     "text": [
      "Supremum:  0.139566666667 ; Rho:  0.764438116091 ; Quantile:  1.29467454135 ;\n",
      "SOL:  True\n",
      "---------------------------\n",
      "Chi-Squared test\n",
      "---------------------------\n",
      "Rho:  1.3333333333333335 ; Quantile:  8.66642823447 ;\n",
      "SOL:  True\n",
      "___________________________\n",
      "TASK3: The Hypothesis of Homogeneity of Distributions\n",
      "___________________________\n",
      "DATA_X: \n",
      " [-0.929, -0.378, -1.741, -0.475, -0.66, -1.04, 0.054, -1.459, -0.624, -1.114, 0.385, -0.211, -0.41, -1.42, -0.75, 0.394, -1.25, -1.548, -2.938, -0.466]\n",
      "DATA_Y: \n",
      " [-1.912, 0.146, -0.841, -0.327, -1.163, -0.858, -1.441, -2.064, 0.585, -0.041, -1.863, -0.747, -2.007, -1.51, -0.463, -1.305, 0.508, -1.569, 0.292, -1.275, -0.084, -1.861, 0.405, -0.656, -2.964, -1.153, -1.769, -1.091, -0.736, -1.499]\n",
      "\n",
      "Sample_Mean_X:  -0.8290000000000001 ; Sample_Mean_Y:  -0.975433333333333 ; \n",
      "Unbiased_Sample_Variance_X:  0.6157771578947369 ; Unbiased_Sample_Variance_Y:  0.7823861160919541 ;\n",
      "---------------------------\n",
      "F-test\n",
      "---------------------------\n",
      "Rho:  0.8008581096220984 ; \n",
      "Quantile1:  0.445903937636 ; Quantile2:  2.09840593323 ;\n",
      "SOL:  True\n",
      "---------------------------\n",
      "t-test\n",
      "---------------------------\n",
      "Rho:  0.5992963712068035 ; Quantile1:  1.85324120999 ;\n",
      "SOL:  True\n"
     ]
    }
   ],
   "source": [
    "data = [float(a.replace(\",\", \".\")) for a in open(r\"d:\\LEARN\\IN7.txt\").read().split()]\n",
    "SHOW(data, -1.0, 0.9, 0.07)"
   ]
  },
  {
   "cell_type": "code",
   "execution_count": null,
   "metadata": {
    "collapsed": true
   },
   "outputs": [],
   "source": []
  }
 ],
 "metadata": {
  "kernelspec": {
   "display_name": "Python 3",
   "language": "python",
   "name": "python3"
  },
  "language_info": {
   "codemirror_mode": {
    "name": "ipython",
    "version": 3
   },
   "file_extension": ".py",
   "mimetype": "text/x-python",
   "name": "python",
   "nbconvert_exporter": "python",
   "pygments_lexer": "ipython3",
   "version": "3.6.1"
  }
 },
 "nbformat": 4,
 "nbformat_minor": 2
}
