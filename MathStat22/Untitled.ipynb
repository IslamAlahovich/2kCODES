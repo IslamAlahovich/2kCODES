{
 "cells": [
  {
   "cell_type": "code",
   "execution_count": 128,
   "metadata": {
    "collapsed": true
   },
   "outputs": [],
   "source": [
    "import numpy as np\n",
    "import math"
   ]
  },
  {
   "cell_type": "code",
   "execution_count": 71,
   "metadata": {},
   "outputs": [],
   "source": [
    "def CDF_T(X, inl, l=True, r=True):\n",
    "    if l and r: return sum([X[yi] for yi in X.keys() if inl[0]<=yi and yi<=inl[1]])\n",
    "    elif not l and r: return sum([X[yi] for yi in X.keys() if inl[0]<yi and yi<=inl[1]])\n",
    "    elif l and not r: return sum([X[yi] for yi in X.keys() if inl[0]<=yi and yi<inl[1]])\n",
    "    return sum([X[yi] for yi in X.keys() if inl[0]<yi and yi<inl[1]])"
   ]
  },
  {
   "cell_type": "code",
   "execution_count": 72,
   "metadata": {
    "collapsed": true
   },
   "outputs": [],
   "source": [
    "def OP(X, Y, f):\n",
    "    Z = {}\n",
    "    for k1 in X.keys():\n",
    "        for k2 in Y.keys():\n",
    "            if f(k1, k2) in Z.keys(): Z[f(k1, k2)] += X[k1]*Y[k2]\n",
    "            else: Z[f(k1, k2)] = X[k1]*Y[k2]\n",
    "    return Z"
   ]
  },
  {
   "cell_type": "code",
   "execution_count": 48,
   "metadata": {},
   "outputs": [
    {
     "data": {
      "text/plain": [
       "{(0, 0): 0.1, (0, 1): 0.1, (1, 0): 0.4, (1, 1): 0.4}"
      ]
     },
     "execution_count": 48,
     "metadata": {},
     "output_type": "execute_result"
    }
   ],
   "source": [
    "Y1 = {0:.2, 1:.8}\n",
    "Y2 = {0:.5, 1:.5}\n",
    "Y = {}\n",
    "for k1 in Y1.keys():\n",
    "    for k2 in Y2.keys():\n",
    "        Y[(k1, k2)] = Y1[k1]*Y2[k2]\n",
    "Y"
   ]
  },
  {
   "cell_type": "code",
   "execution_count": 74,
   "metadata": {},
   "outputs": [
    {
     "data": {
      "text/plain": [
       "{1: 0.16666666666666666,\n",
       " 2: 0.16666666666666666,\n",
       " 3: 0.16666666666666666,\n",
       " 4: 0.16666666666666666,\n",
       " 5: 0.16666666666666666,\n",
       " 6: 0.16666666666666666}"
      ]
     },
     "execution_count": 74,
     "metadata": {},
     "output_type": "execute_result"
    }
   ],
   "source": [
    "b1 = {}\n",
    "b2 = {}\n",
    "b3 = {}\n",
    "for i in range(1, 7):\n",
    "    b1[i]=1/6\n",
    "    b2[i]=1/6\n",
    "    b3[i]=1/6\n",
    "b1"
   ]
  },
  {
   "cell_type": "code",
   "execution_count": 75,
   "metadata": {},
   "outputs": [
    {
     "data": {
      "text/plain": [
       "0.6666666666666666"
      ]
     },
     "execution_count": 75,
     "metadata": {},
     "output_type": "execute_result"
    }
   ],
   "source": [
    "CDF_T(b1, [2, np.inf], l=False)"
   ]
  },
  {
   "cell_type": "code",
   "execution_count": 77,
   "metadata": {},
   "outputs": [
    {
     "data": {
      "text/plain": [
       "0.8333333333333335"
      ]
     },
     "execution_count": 77,
     "metadata": {},
     "output_type": "execute_result"
    }
   ],
   "source": [
    "CDF_T(OP(b1, b2, lambda a, b: a+b), [4, np.inf], l=False)"
   ]
  },
  {
   "cell_type": "code",
   "execution_count": 81,
   "metadata": {},
   "outputs": [
    {
     "data": {
      "text/plain": [
       "0.9999999999999993"
      ]
     },
     "execution_count": 81,
     "metadata": {},
     "output_type": "execute_result"
    }
   ],
   "source": [
    "M = {}\n",
    "K = {}\n",
    "for i in range(1, 32):\n",
    "    M[i] = 1/31\n",
    "    K[i] = 1/31\n",
    "sum(M.values())"
   ]
  },
  {
   "cell_type": "code",
   "execution_count": 82,
   "metadata": {},
   "outputs": [
    {
     "data": {
      "text/plain": [
       "0.5629552549427681"
      ]
     },
     "execution_count": 82,
     "metadata": {},
     "output_type": "execute_result"
    }
   ],
   "source": [
    "CDF_T(OP(M, K, lambda a, b: a-b), [-10, 10], l=True, r=True)"
   ]
  },
  {
   "cell_type": "code",
   "execution_count": 84,
   "metadata": {},
   "outputs": [
    {
     "data": {
      "text/plain": [
       "1.0000000000000002"
      ]
     },
     "execution_count": 84,
     "metadata": {},
     "output_type": "execute_result"
    }
   ],
   "source": [
    "sum(OP(M, K, lambda a, b: a-b).values())"
   ]
  },
  {
   "cell_type": "code",
   "execution_count": 134,
   "metadata": {},
   "outputs": [
    {
     "name": "stdout",
     "output_type": "stream",
     "text": [
      "{4: 0.07, 3: 0.0651, 2: 0.060543, 1: 0.05630499, 0: 0.7480520099999998}\n",
      "0.07\n"
     ]
    },
    {
     "data": {
      "text/plain": [
       "2.0043769900000004"
      ]
     },
     "execution_count": 134,
     "metadata": {},
     "output_type": "execute_result"
    }
   ],
   "source": [
    "X = {4: 0.07, 3:(1-0.07)*0.07, 2:((1-0.07)**2)*0.07, 1:((1-0.07)**3)*0.07, 0:((1-0.07)**4)*0.07+(1-0.07)**5}\n",
    "print(X)\n",
    "print(X[4])\n",
    "sum([(k**2)*X[k] for k in X.keys()])"
   ]
  },
  {
   "cell_type": "code",
   "execution_count": 87,
   "metadata": {},
   "outputs": [
    {
     "data": {
      "text/plain": [
       "0.9999999999999998"
      ]
     },
     "execution_count": 87,
     "metadata": {},
     "output_type": "execute_result"
    }
   ],
   "source": [
    "sum(X.values())"
   ]
  },
  {
   "cell_type": "code",
   "execution_count": 88,
   "metadata": {},
   "outputs": [
    {
     "data": {
      "text/plain": [
       "2.0043769900000004"
      ]
     },
     "execution_count": 88,
     "metadata": {},
     "output_type": "execute_result"
    }
   ],
   "source": [
    "sum([(k**2)*X[k] for k in X.keys()])"
   ]
  },
  {
   "cell_type": "code",
   "execution_count": 90,
   "metadata": {},
   "outputs": [
    {
     "data": {
      "text/plain": [
       "20.0"
      ]
     },
     "execution_count": 90,
     "metadata": {},
     "output_type": "execute_result"
    }
   ],
   "source": [
    "Y1 = {0:.2, 5:.8}\n",
    "sum([(k**2)*Y1[k] for k in Y1.keys()])"
   ]
  },
  {
   "cell_type": "code",
   "execution_count": 92,
   "metadata": {},
   "outputs": [
    {
     "data": {
      "text/plain": [
       "1332"
      ]
     },
     "execution_count": 92,
     "metadata": {},
     "output_type": "execute_result"
    }
   ],
   "source": [
    "37*36"
   ]
  },
  {
   "cell_type": "code",
   "execution_count": 112,
   "metadata": {},
   "outputs": [
    {
     "ename": "ValueError",
     "evalue": "The truth value of an array with more than one element is ambiguous. Use a.any() or a.all()",
     "output_type": "error",
     "traceback": [
      "\u001b[1;31m---------------------------------------------------------------------------\u001b[0m",
      "\u001b[1;31mValueError\u001b[0m                                Traceback (most recent call last)",
      "\u001b[1;32m<ipython-input-112-7afb081b97c2>\u001b[0m in \u001b[0;36m<module>\u001b[1;34m()\u001b[0m\n\u001b[0;32m      2\u001b[0m \u001b[1;32mfor\u001b[0m \u001b[0mn1\u001b[0m \u001b[1;32min\u001b[0m \u001b[0mnum\u001b[0m\u001b[1;33m:\u001b[0m\u001b[1;33m\u001b[0m\u001b[0m\n\u001b[0;32m      3\u001b[0m     \u001b[1;32mfor\u001b[0m \u001b[0mn2\u001b[0m \u001b[1;32min\u001b[0m \u001b[0mnp\u001b[0m\u001b[1;33m.\u001b[0m\u001b[0mdelete\u001b[0m\u001b[1;33m(\u001b[0m\u001b[0mnum\u001b[0m\u001b[1;33m,\u001b[0m \u001b[0mnp\u001b[0m\u001b[1;33m.\u001b[0m\u001b[0margwhere\u001b[0m\u001b[1;33m(\u001b[0m\u001b[0mnum\u001b[0m \u001b[1;33m==\u001b[0m \u001b[0mn1\u001b[0m\u001b[1;33m)\u001b[0m\u001b[1;33m)\u001b[0m\u001b[1;33m:\u001b[0m\u001b[1;33m\u001b[0m\u001b[0m\n\u001b[1;32m----> 4\u001b[1;33m         \u001b[1;32mfor\u001b[0m \u001b[0mn3\u001b[0m \u001b[1;32min\u001b[0m \u001b[0mnp\u001b[0m\u001b[1;33m.\u001b[0m\u001b[0mdelete\u001b[0m\u001b[1;33m(\u001b[0m\u001b[0mnum\u001b[0m\u001b[1;33m,\u001b[0m \u001b[0mnp\u001b[0m\u001b[1;33m.\u001b[0m\u001b[0margwhere\u001b[0m\u001b[1;33m(\u001b[0m\u001b[0mnum\u001b[0m \u001b[1;33m==\u001b[0m \u001b[0mn2\u001b[0m \u001b[1;32mand\u001b[0m \u001b[0mnum\u001b[0m \u001b[1;33m==\u001b[0m \u001b[0mn1\u001b[0m\u001b[1;33m)\u001b[0m\u001b[1;33m)\u001b[0m\u001b[1;33m:\u001b[0m\u001b[1;33m\u001b[0m\u001b[0m\n\u001b[0m\u001b[0;32m      5\u001b[0m             \u001b[1;32mfor\u001b[0m \u001b[0mn4\u001b[0m \u001b[1;32min\u001b[0m \u001b[0mnp\u001b[0m\u001b[1;33m.\u001b[0m\u001b[0mdelete\u001b[0m\u001b[1;33m(\u001b[0m\u001b[0mnum\u001b[0m\u001b[1;33m,\u001b[0m \u001b[0mnp\u001b[0m\u001b[1;33m.\u001b[0m\u001b[0margwhere\u001b[0m\u001b[1;33m(\u001b[0m\u001b[0mnum\u001b[0m \u001b[1;33m==\u001b[0m \u001b[0mn3\u001b[0m \u001b[1;32mand\u001b[0m \u001b[0mnum\u001b[0m \u001b[1;33m==\u001b[0m \u001b[0mn2\u001b[0m \u001b[1;32mand\u001b[0m \u001b[0mnum\u001b[0m \u001b[1;33m==\u001b[0m \u001b[0mn1\u001b[0m\u001b[1;33m)\u001b[0m\u001b[1;33m)\u001b[0m\u001b[1;33m:\u001b[0m\u001b[1;33m\u001b[0m\u001b[0m\n\u001b[0;32m      6\u001b[0m                 \u001b[1;32mfor\u001b[0m \u001b[0mn5\u001b[0m \u001b[1;32min\u001b[0m \u001b[0mnp\u001b[0m\u001b[1;33m.\u001b[0m\u001b[0mdelete\u001b[0m\u001b[1;33m(\u001b[0m\u001b[0mnum\u001b[0m\u001b[1;33m,\u001b[0m \u001b[0mnp\u001b[0m\u001b[1;33m.\u001b[0m\u001b[0margwhere\u001b[0m\u001b[1;33m(\u001b[0m\u001b[0mnum\u001b[0m \u001b[1;33m==\u001b[0m \u001b[0mn4\u001b[0m \u001b[1;32mand\u001b[0m \u001b[0mnum\u001b[0m \u001b[1;33m==\u001b[0m \u001b[0mn3\u001b[0m \u001b[1;32mand\u001b[0m \u001b[0mnum\u001b[0m \u001b[1;33m==\u001b[0m \u001b[0mn2\u001b[0m \u001b[1;32mand\u001b[0m \u001b[0mnum\u001b[0m \u001b[1;33m==\u001b[0m \u001b[0mn1\u001b[0m\u001b[1;33m)\u001b[0m\u001b[1;33m)\u001b[0m\u001b[1;33m:\u001b[0m\u001b[1;33m\u001b[0m\u001b[0m\n",
      "\u001b[1;31mValueError\u001b[0m: The truth value of an array with more than one element is ambiguous. Use a.any() or a.all()"
     ]
    }
   ],
   "source": [
    "num = np.array([0, 1, 2, 3, 4, 4])\n",
    "for n1 in num:\n",
    "    for n2 in np.delete(num, np.argwhere(num == n1)):\n",
    "        for n3 in np.delete(num, np.argwhere(num == n2 and num == n1)):\n",
    "            for n4 in np.delete(num, np.argwhere(num == n3 and num == n2 and num == n1)):\n",
    "                for n5 in np.delete(num, np.argwhere(num == n4 and num == n3 and num == n2 and num == n1)):\n",
    "                    if n1+n2+n3+n4+n5-9 == 0: print(n1, n2, n3, n4, n5)"
   ]
  },
  {
   "cell_type": "code",
   "execution_count": 107,
   "metadata": {},
   "outputs": [
    {
     "data": {
      "text/plain": [
       "array([1, 2, 3])"
      ]
     },
     "execution_count": 107,
     "metadata": {},
     "output_type": "execute_result"
    }
   ],
   "source": [
    "a = np.array([1, 2, 3])\n",
    "b = np.delete(a, np.argwhere(a == 2))\n",
    "b\n",
    "a"
   ]
  },
  {
   "cell_type": "code",
   "execution_count": 119,
   "metadata": {},
   "outputs": [],
   "source": [
    "for a in range(1, 38):\n",
    "    for b in range(1, 37):\n",
    "        if a*b == 662: print(a)"
   ]
  },
  {
   "cell_type": "code",
   "execution_count": 127,
   "metadata": {},
   "outputs": [],
   "source": [
    "for i in range(1, 38): \n",
    "    for j in range(1, 37):\n",
    "        if i*j == 331: print(i, j, i*j)"
   ]
  },
  {
   "cell_type": "code",
   "execution_count": 129,
   "metadata": {
    "collapsed": true
   },
   "outputs": [],
   "source": [
    "def rnd(x):\n",
    "    y = (x * 10) % 10\n",
    "    if y < 5:\n",
    "        print (int(x))\n",
    "    if y >= 5:\n",
    "        print (math.ceil(x))"
   ]
  },
  {
   "cell_type": "code",
   "execution_count": null,
   "metadata": {
    "collapsed": true
   },
   "outputs": [],
   "source": [
    "100 сто  \n",
    "200 двести  \n",
    "300 триста  \n",
    "400 четыреста  \n",
    "500 пятьсот  \n",
    "600 шестьсот  \n",
    "700 семьсот  \n",
    "800 восемьсот  \n",
    "900 девятьсот  \n",
    "10 десять  \n",
    "11 одиннадцать  \n",
    "12 двенадцать  \n",
    "13 тринадцать  \n",
    "14 четырнадцать  \n",
    "15 пятнадцать  \n",
    "16 шестнадцать  \n",
    "17 семнадцать  \n",
    "18 восемнадцать  \n",
    "19 девятнадцать  \n",
    "20 двадцать  \n",
    "30 тридцать  \n",
    "40 сорок  \n",
    "50 пятьдесят  \n",
    "60 шестьдесят  \n",
    "70 семьдесят  \n",
    "80 восемьдесят  \n",
    "90 девяносто  \n",
    "1 одна  \n",
    "2 две  \n",
    "3 три  \n",
    "4 четыре  \n",
    "5 пять  \n",
    "6 шесть  \n",
    "7 семь  \n",
    "8 восемь  \n",
    "9 девять"
   ]
  },
  {
   "cell_type": "code",
   "execution_count": null,
   "metadata": {
    "collapsed": true
   },
   "outputs": [],
   "source": [
    "def hass(s):\n",
    "    "
   ]
  }
 ],
 "metadata": {
  "kernelspec": {
   "display_name": "Python 3",
   "language": "python",
   "name": "python3"
  },
  "language_info": {
   "codemirror_mode": {
    "name": "ipython",
    "version": 3
   },
   "file_extension": ".py",
   "mimetype": "text/x-python",
   "name": "python",
   "nbconvert_exporter": "python",
   "pygments_lexer": "ipython3",
   "version": "3.6.1"
  }
 },
 "nbformat": 4,
 "nbformat_minor": 2
}
