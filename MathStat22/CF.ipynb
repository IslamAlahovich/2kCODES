{
 "cells": [
  {
   "cell_type": "code",
   "execution_count": 1,
   "metadata": {
    "collapsed": true
   },
   "outputs": [],
   "source": [
    "from scipy.stats import norm, t, chi2, kstwobign, uniform, f \n",
    "from scipy import stats\n",
    "from math import sqrt\n",
    "#---\n",
    "import numpy as np\n",
    "import matplotlib.pyplot as plt"
   ]
  },
  {
   "cell_type": "code",
   "execution_count": 2,
   "metadata": {
    "collapsed": true
   },
   "outputs": [],
   "source": [
    "%matplotlib inline"
   ]
  },
  {
   "cell_type": "code",
   "execution_count": 3,
   "metadata": {
    "collapsed": true
   },
   "outputs": [],
   "source": [
    "def CI(X, alph, sigma2, eps, flg):\n",
    "    n = len(X)\n",
    "    if flg==1: \n",
    "        mom1, tau = sum(X)/n, norm.ppf(1-eps/2)\n",
    "        return [mom1-tau*sqrt(sigma2/n), mom1+tau*sqrt(sigma2/n)], mom1, tau\n",
    "    elif flg==2:\n",
    "        S21, g1, g2 = sum([(x-alph)**2 for x in X])/n, chi2.ppf(eps/2, n), chi2.ppf(1-eps/2, n)\n",
    "        return [n*S21/g2, n*S21/g1], S21, g1, g2\n",
    "    elif flg==3:\n",
    "        mom1, g1, g2 = sum(X)/n, chi2.ppf(eps/2, n-1), chi2.ppf(1-eps/2, n-1)\n",
    "        S20 = sum([(x-mom1)**2 for x in X])/(n-1)\n",
    "        return [(n-1)*S20/g2, (n-1)*S20/g1], mom1, g1, g2, S20\n",
    "    else:\n",
    "        mom1, c = sum(X)/n, stats.t.ppf(1-eps/2, n-1)\n",
    "        S20 = sum([(x-mom1)**2 for x in X])/(n-1)\n",
    "        return [mom1-c*sqrt(S20/n), mom1+c*sqrt(S20/n)], mom1, c, S20"
   ]
  },
  {
   "cell_type": "code",
   "execution_count": 4,
   "metadata": {
    "collapsed": true
   },
   "outputs": [],
   "source": [
    "def HT_UD(X, eps, k, flg):\n",
    "    if flg==1: \n",
    "        n, C = len(X), kstwobign.ppf(1-eps)\n",
    "        F_emp = [j/n for j in range(1, n+1)]\n",
    "        X.sort()\n",
    "        rho = sqrt(n)*max([abs(F_emp[i]-uniform.cdf(X[i])) for i in range(n)])\n",
    "        if rho<C: return True\n",
    "        else: return False\n",
    "    else:\n",
    "        np, rho, C = len(X)/k, 0, chi2.ppf(1-eps, k-1)\n",
    "        for j in range(1, k+1):rho+=(len([x for x in X if x>=(j-1)/k and x<j/k])-np)**2/np\n",
    "        if rho<C: return True\n",
    "        else: return False"
   ]
  },
  {
   "cell_type": "code",
   "execution_count": 5,
   "metadata": {
    "collapsed": true
   },
   "outputs": [],
   "source": [
    "def HT_UC(X, Y, eps, flg):\n",
    "    n, m = len(X), len(Y)\n",
    "    momX, momY = sum(X)/n, sum(Y)/m\n",
    "    S02X, S02Y = sum([(x-momX)**2 for x in X])/(n-1), sum([(y-momY)**2 for y in Y])/(m-1)\n",
    "    if flg==1:\n",
    "        rho, g1, g2 = (n*(m-1)/(m*(n-1)))*S02X/S02Y, f.ppf(eps/2, n-1, m-1), f.ppf(1-eps/2, n-1, m-1)\n",
    "        if g1<rho and rho<g2: return True, momX, momY, S02X, S02Y, g1, g2\n",
    "        else: return False, momX, momY, S02X, S02Y, g1, g2\n",
    "    else:\n",
    "        rho, C = sqrt(n*m/(n+m))*(momX-momY)/sqrt(((n-1)*S02X+(m-1)*S02Y)/(n+m-2)), t.ppf(1-(eps)/2, n+m-2)\n",
    "        if abs(rho)<C: return True, C\n",
    "        else: return False, C"
   ]
  },
  {
   "cell_type": "code",
   "execution_count": 6,
   "metadata": {
    "collapsed": true
   },
   "outputs": [],
   "source": [
    "def SHOW(DATA, alph, sigmasq, eps, k=5, n=20, m=30):\n",
    "    DATA1, DATA2, DATA = DATA[0:n], DATA[n:n+m], DATA[m+n:len(DATA)]\n",
    "    s = len(DATA)\n",
    "    print(\"___________________________\")\n",
    "    print(\"TASK1: CI\")\n",
    "    print(\"___________________________\")\n",
    "    print(\"DATA:\", \"\\n\", DATA1+DATA2)\n",
    "    print(\"---------------------------\")\n",
    "    print(\"a, sigma^2=\", sigmasq)\n",
    "    print(\"---------------------------\")\n",
    "    sol = CI(DATA1+DATA2, alph, sigmasq, eps, 1)\n",
    "    print(\"sample_mean: \", sol[1], \"; quantile: \", sol[2])\n",
    "    print(\"CI: \", sol[0])\n",
    "    print(\"---------------------------\")\n",
    "    print(\"sigma^2, a=\", alph)\n",
    "    print(\"---------------------------\")\n",
    "    sol = CI(DATA1+DATA2, alph, sigmasq, eps,2)\n",
    "    print(\"sample_variance: \", sol[1], \"; quantile1: \", sol[2], \"; quantile2: \", sol[3])\n",
    "    print(\"CI: \", sol[0])\n",
    "    print(\"---------------------------\")\n",
    "    print(\"sigma^2, a=?\")\n",
    "    print(\"---------------------------\")\n",
    "    sol = CI(DATA1+DATA2, alph, sigmasq, eps,3)\n",
    "    print(\"sample_mean: \", sol[1], \"; unbiased_sample_variance: \", sol[4], \"; quantile1: \", sol[2], \"; quantile2: \", sol[3])\n",
    "    print(\"CI: \", sol[0])\n",
    "    print(\"---------------------------\")\n",
    "    print(\"a, sigma^2=?\")\n",
    "    print(\"---------------------------\")\n",
    "    sol = CI(DATA1+DATA2, alph, sigmasq, eps, 4)\n",
    "    print(\"sample_mean: \", sol[1], \"; unbiased_sample_variance: \", sol[3], \"; quantile: \", sol[2])\n",
    "    print(\"CI: \", sol[0])\n",
    "    print(\"___________________________\")\n",
    "    print(\"TASK2: the hypothesis of uniform distribution\")\n",
    "    print(\"___________________________\")\n",
    "    print(\"DATA:\", \"\\n\", DATA)\n",
    "    print(\"---------------------------\")\n",
    "    print(\"Kolmogorov–Smirnov test\")\n",
    "    print(\"---------------------------\")\n",
    "    data1 = list(set(DATA))\n",
    "    res = [len([d for d in DATA if d<=data1[i]])/s for i in range(len(data1))]\n",
    "    data1.sort()\n",
    "    res.sort()\n",
    "    fig, ax = plt.subplots(figsize=(16, 8))\n",
    "    ax.plot(data1, res, drawstyle='steps', color='red', label='Empirical')\n",
    "    ax.plot(data1, uniform.cdf(data1), 'k--', linewidth=1.5, label='Theoretical')\n",
    "\n",
    "    ax.grid(True)\n",
    "    ax.legend(loc='right')\n",
    "    ax.set_title('Empirical and Theoretical CDF')\n",
    "\n",
    "    plt.show()\n",
    "    print(\"sup: \", max(abs(res-uniform.cdf(data1))), \";quantile: \", kstwobign.ppf(1-eps))\n",
    "    print(\"SOL: \", HT_UD(DATA, eps, k, 1))\n",
    "    print(\"---------------------------\")\n",
    "    print(\"Chi-squared test\")\n",
    "    print(\"---------------------------\")\n",
    "    print(\"SOL: \", HT_UD(DATA, eps, k, 2))\n",
    "    print(\"___________________________\")\n",
    "    print(\"TASK3: the hypothesis of homogeneity of distributions\")\n",
    "    print(\"___________________________\")\n",
    "    print(\"DATA_X:\", \"\\n\", DATA1)\n",
    "    print(\"DATA_Y:\", \"\\n\", DATA2)\n",
    "    print(\"---------------------------\")\n",
    "    print(\"Fisher\")\n",
    "    print(\"---------------------------\")\n",
    "    sol = HT_UC(DATA1, DATA2, eps, 1)\n",
    "    print(\"sample_mean_X: \", sol[1], \";sample_mean_Y: \", sol[2], \n",
    "          \";unbiased_sample_variance_X: \", sol[3], \";unbiased_sample_variance_Y: \", sol[4], \n",
    "          \";quantile1: \", sol[5], \";quantile2: \", sol[6])\n",
    "    print(\"SOL: \", sol[0])\n",
    "    print(\"---------------------------\")\n",
    "    print(\"Student\")\n",
    "    print(\"---------------------------\")\n",
    "    sol = HT_UC(DATA1, DATA2, eps, 2)\n",
    "    print(\"quantile1: \", sol[1])\n",
    "    print(\"SOL: \", sol[0])"
   ]
  },
  {
   "cell_type": "code",
   "execution_count": 7,
   "metadata": {},
   "outputs": [
    {
     "name": "stdout",
     "output_type": "stream",
     "text": [
      "___________________________\n",
      "TASK1: CI\n",
      "___________________________\n",
      "DATA: \n",
      " [-0.929, -0.378, -1.741, -0.475, -0.66, -1.04, 0.054, -1.459, -0.624, -1.114, 0.385, -0.211, -0.41, -1.42, -0.75, 0.394, -1.25, -1.548, -2.938, -0.466, -1.912, 0.146, -0.841, -0.327, -1.163, -0.858, -1.441, -2.064, 0.585, -0.041, -1.863, -0.747, -2.007, -1.51, -0.463, -1.305, 0.508, -1.569, 0.292, -1.275, -0.084, -1.861, 0.405, -0.656, -2.964, -1.153, -1.769, -1.091, -0.736, -1.499]\n",
      "---------------------------\n",
      "a, sigma^2= 0.9\n",
      "---------------------------\n",
      "sample_mean:  -0.9168599999999999 ; quantile:  1.81191067295\n",
      "CI:  [-1.1599533260327637, -0.67376667396723611]\n",
      "---------------------------\n",
      "sigma^2, a= -1.0\n",
      "---------------------------\n",
      "sample_variance:  0.6998377799999999 ; quantile1:  33.4734113975 ; quantile2:  69.562730917\n",
      "CI:  [0.50302638408146449, 1.045363694319724]\n",
      "---------------------------\n",
      "sigma^2, a=?\n",
      "---------------------------\n",
      "sample_mean:  -0.9168599999999999 ; unbiased_sample_variance:  0.7070668575510205 ; quantile1:  32.6561836145 ; quantile2:  68.3797952957\n",
      "CI:  [0.50667416990895664, 1.0609407525677954]\n",
      "---------------------------\n",
      "a, sigma^2=?\n",
      "---------------------------\n",
      "sample_mean:  -0.9168599999999999 ; unbiased_sample_variance:  0.7070668575510205 ; quantile:  1.85237920629\n",
      "CI:  [-1.1371400343517906, -0.69657996564820923]\n",
      "___________________________\n",
      "TASK2: the hypothesis of uniform distribution\n",
      "___________________________\n",
      "DATA: \n",
      " [0.757, 0.199, 0.507, 0.665, 0.492, 0.716, 0.171, 0.709, 0.978, 0.773, 0.957, 0.05, 0.283, 0.024, 0.493, 0.378, 0.355, 0.476, 0.886, 0.316, 0.491, 0.262, 0.755, 0.518, 0.494, 0.846, 0.473, 0.815, 0.121, 0.73]\n",
      "---------------------------\n",
      "Kolmogorov–Smirnov test\n",
      "---------------------------\n"
     ]
    },
    {
     "data": {
      "image/png": "[encoded data removed]",
      "text/plain": [
       "<matplotlib.figure.Figure at 0x8c906d8>"
      ]
     },
     "metadata": {},
     "output_type": "display_data"
    },
    {
     "name": "stdout",
     "output_type": "stream",
     "text": [
      "sup:  0.106333333333 ;quantile:  1.29467454135\n",
      "SOL:  True\n",
      "---------------------------\n",
      "Chi-squared test\n",
      "---------------------------\n",
      "SOL:  True\n",
      "___________________________\n",
      "TASK3: the hypothesis of homogeneity of distributions\n",
      "___________________________\n",
      "DATA_X: \n",
      " [-0.929, -0.378, -1.741, -0.475, -0.66, -1.04, 0.054, -1.459, -0.624, -1.114, 0.385, -0.211, -0.41, -1.42, -0.75, 0.394, -1.25, -1.548, -2.938, -0.466]\n",
      "DATA_Y: \n",
      " [-1.912, 0.146, -0.841, -0.327, -1.163, -0.858, -1.441, -2.064, 0.585, -0.041, -1.863, -0.747, -2.007, -1.51, -0.463, -1.305, 0.508, -1.569, 0.292, -1.275, -0.084, -1.861, 0.405, -0.656, -2.964, -1.153, -1.769, -1.091, -0.736, -1.499]\n",
      "---------------------------\n",
      "Fisher\n",
      "---------------------------\n",
      "sample_mean_X:  -0.8290000000000001 ;sample_mean_Y:  -0.975433333333333 ;unbiased_sample_variance_X:  0.6157771578947369 ;unbiased_sample_variance_Y:  0.7823861160919541 ;quantile1:  0.445903937636 ;quantile2:  2.09840593323\n",
      "SOL:  True\n",
      "---------------------------\n",
      "Student\n",
      "---------------------------\n",
      "quantile1:  1.85324120999\n",
      "SOL:  True\n"
     ]
    }
   ],
   "source": [
    "data = [float(a.replace(\",\", \".\")) for a in open(r\"d:\\LEARN\\IN7.txt\").read().split()]\n",
    "SHOW(data, -1.0, 0.9, 0.07)"
   ]
  },
  {
   "cell_type": "code",
   "execution_count": null,
   "metadata": {
    "collapsed": true
   },
   "outputs": [],
   "source": []
  }
 ],
 "metadata": {
  "kernelspec": {
   "display_name": "Python 3",
   "language": "python",
   "name": "python3"
  },
  "language_info": {
   "codemirror_mode": {
    "name": "ipython",
    "version": 3
   },
   "file_extension": ".py",
   "mimetype": "text/x-python",
   "name": "python",
   "nbconvert_exporter": "python",
   "pygments_lexer": "ipython3",
   "version": "3.6.1"
  }
 },
 "nbformat": 4,
 "nbformat_minor": 2
}
